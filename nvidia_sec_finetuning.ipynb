{
  "cells": [
    {
      "cell_type": "markdown",
      "metadata": {
        "id": "view-in-github",
        "colab_type": "text"
      },
      "source": [
        "<a href=\"https://colab.research.google.com/github/wenqiglantz/nvidia-sec-finetuning/blob/main/nvidia_sec_finetuning.ipynb\" target=\"_parent\"><img src=\"https://colab.research.google.com/assets/colab-badge.svg\" alt=\"Open In Colab\"/></a>"
      ]
    },
    {
      "cell_type": "markdown",
      "source": [
        "# NVIDIA SEC 10-K Filing, Fine-Tuning gpt-3.5-turbo"
      ],
      "metadata": {
        "id": "RNZosfO0xv7z"
      }
    },
    {
      "cell_type": "code",
      "execution_count": 1,
      "metadata": {
        "colab": {
          "base_uri": "https://localhost:8080/",
          "height": 1000
        },
        "id": "vFs0P2Op4zoB",
        "outputId": "cfc7d3bf-4d3e-4d65-aa7d-60333baeb3b6"
      },
      "outputs": [
        {
          "output_type": "stream",
          "name": "stdout",
          "text": [
            "Collecting llama_index==0.8.19\n",
            "  Downloading llama_index-0.8.19-py3-none-any.whl (745 kB)\n",
            "\u001b[2K     \u001b[90m━━━━━━━━━━━━━━━━━━━━━━━━━━━━━━━━━━━━━━━\u001b[0m \u001b[32m745.1/745.1 kB\u001b[0m \u001b[31m6.2 MB/s\u001b[0m eta \u001b[36m0:00:00\u001b[0m\n",
            "\u001b[?25hCollecting pypdf\n",
            "  Downloading pypdf-3.15.5-py3-none-any.whl (272 kB)\n",
            "\u001b[2K     \u001b[90m━━━━━━━━━━━━━━━━━━━━━━━━━━━━━━━━━━━━━━━\u001b[0m \u001b[32m272.6/272.6 kB\u001b[0m \u001b[31m8.1 MB/s\u001b[0m eta \u001b[36m0:00:00\u001b[0m\n",
            "\u001b[?25hCollecting sentence-transformers\n",
            "  Downloading sentence-transformers-2.2.2.tar.gz (85 kB)\n",
            "\u001b[2K     \u001b[90m━━━━━━━━━━━━━━━━━━━━━━━━━━━━━━━━━━━━━━━━\u001b[0m \u001b[32m86.0/86.0 kB\u001b[0m \u001b[31m8.6 MB/s\u001b[0m eta \u001b[36m0:00:00\u001b[0m\n",
            "\u001b[?25h  Preparing metadata (setup.py) ... \u001b[?25l\u001b[?25hdone\n",
            "Collecting ragas\n",
            "  Downloading ragas-0.0.11-py3-none-any.whl (31 kB)\n",
            "Collecting tiktoken (from llama_index==0.8.19)\n",
            "  Downloading tiktoken-0.4.0-cp310-cp310-manylinux_2_17_x86_64.manylinux2014_x86_64.whl (1.7 MB)\n",
            "\u001b[2K     \u001b[90m━━━━━━━━━━━━━━━━━━━━━━━━━━━━━━━━━━━━━━━━\u001b[0m \u001b[32m1.7/1.7 MB\u001b[0m \u001b[31m11.6 MB/s\u001b[0m eta \u001b[36m0:00:00\u001b[0m\n",
            "\u001b[?25hCollecting dataclasses-json (from llama_index==0.8.19)\n",
            "  Downloading dataclasses_json-0.5.14-py3-none-any.whl (26 kB)\n",
            "Collecting langchain>=0.0.262 (from llama_index==0.8.19)\n",
            "  Downloading langchain-0.0.279-py3-none-any.whl (1.6 MB)\n",
            "\u001b[2K     \u001b[90m━━━━━━━━━━━━━━━━━━━━━━━━━━━━━━━━━━━━━━━━\u001b[0m \u001b[32m1.6/1.6 MB\u001b[0m \u001b[31m11.9 MB/s\u001b[0m eta \u001b[36m0:00:00\u001b[0m\n",
            "\u001b[?25hRequirement already satisfied: sqlalchemy>=2.0.15 in /usr/local/lib/python3.10/dist-packages (from llama_index==0.8.19) (2.0.20)\n",
            "Requirement already satisfied: numpy in /usr/local/lib/python3.10/dist-packages (from llama_index==0.8.19) (1.23.5)\n",
            "Requirement already satisfied: tenacity<9.0.0,>=8.2.0 in /usr/local/lib/python3.10/dist-packages (from llama_index==0.8.19) (8.2.3)\n",
            "Collecting openai>=0.26.4 (from llama_index==0.8.19)\n",
            "  Downloading openai-0.28.0-py3-none-any.whl (76 kB)\n",
            "\u001b[2K     \u001b[90m━━━━━━━━━━━━━━━━━━━━━━━━━━━━━━━━━━━━━━━━\u001b[0m \u001b[32m76.5/76.5 kB\u001b[0m \u001b[31m7.5 MB/s\u001b[0m eta \u001b[36m0:00:00\u001b[0m\n",
            "\u001b[?25hRequirement already satisfied: pandas in /usr/local/lib/python3.10/dist-packages (from llama_index==0.8.19) (1.5.3)\n",
            "Collecting urllib3<2 (from llama_index==0.8.19)\n",
            "  Downloading urllib3-1.26.16-py2.py3-none-any.whl (143 kB)\n",
            "\u001b[2K     \u001b[90m━━━━━━━━━━━━━━━━━━━━━━━━━━━━━━━━━━━━━━\u001b[0m \u001b[32m143.1/143.1 kB\u001b[0m \u001b[31m15.0 MB/s\u001b[0m eta \u001b[36m0:00:00\u001b[0m\n",
            "\u001b[?25hRequirement already satisfied: fsspec>=2023.5.0 in /usr/local/lib/python3.10/dist-packages (from llama_index==0.8.19) (2023.6.0)\n",
            "Collecting typing-inspect>=0.8.0 (from llama_index==0.8.19)\n",
            "  Downloading typing_inspect-0.9.0-py3-none-any.whl (8.8 kB)\n",
            "Requirement already satisfied: typing-extensions>=4.5.0 in /usr/local/lib/python3.10/dist-packages (from llama_index==0.8.19) (4.7.1)\n",
            "Requirement already satisfied: beautifulsoup4 in /usr/local/lib/python3.10/dist-packages (from llama_index==0.8.19) (4.11.2)\n",
            "Requirement already satisfied: nest-asyncio in /usr/local/lib/python3.10/dist-packages (from llama_index==0.8.19) (1.5.7)\n",
            "Collecting transformers<5.0.0,>=4.6.0 (from sentence-transformers)\n",
            "  Downloading transformers-4.32.1-py3-none-any.whl (7.5 MB)\n",
            "\u001b[2K     \u001b[90m━━━━━━━━━━━━━━━━━━━━━━━━━━━━━━━━━━━━━━━━\u001b[0m \u001b[32m7.5/7.5 MB\u001b[0m \u001b[31m26.9 MB/s\u001b[0m eta \u001b[36m0:00:00\u001b[0m\n",
            "\u001b[?25hRequirement already satisfied: tqdm in /usr/local/lib/python3.10/dist-packages (from sentence-transformers) (4.66.1)\n",
            "Requirement already satisfied: torch>=1.6.0 in /usr/local/lib/python3.10/dist-packages (from sentence-transformers) (2.0.1+cu118)\n",
            "Requirement already satisfied: torchvision in /usr/local/lib/python3.10/dist-packages (from sentence-transformers) (0.15.2+cu118)\n",
            "Requirement already satisfied: scikit-learn in /usr/local/lib/python3.10/dist-packages (from sentence-transformers) (1.2.2)\n",
            "Requirement already satisfied: scipy in /usr/local/lib/python3.10/dist-packages (from sentence-transformers) (1.10.1)\n",
            "Requirement already satisfied: nltk in /usr/local/lib/python3.10/dist-packages (from sentence-transformers) (3.8.1)\n",
            "Collecting sentencepiece (from sentence-transformers)\n",
            "  Downloading sentencepiece-0.1.99-cp310-cp310-manylinux_2_17_x86_64.manylinux2014_x86_64.whl (1.3 MB)\n",
            "\u001b[2K     \u001b[90m━━━━━━━━━━━━━━━━━━━━━━━━━━━━━━━━━━━━━━━━\u001b[0m \u001b[32m1.3/1.3 MB\u001b[0m \u001b[31m32.2 MB/s\u001b[0m eta \u001b[36m0:00:00\u001b[0m\n",
            "\u001b[?25hCollecting huggingface-hub>=0.4.0 (from sentence-transformers)\n",
            "  Downloading huggingface_hub-0.16.4-py3-none-any.whl (268 kB)\n",
            "\u001b[2K     \u001b[90m━━━━━━━━━━━━━━━━━━━━━━━━━━━━━━━━━━━━━━\u001b[0m \u001b[32m268.8/268.8 kB\u001b[0m \u001b[31m28.2 MB/s\u001b[0m eta \u001b[36m0:00:00\u001b[0m\n",
            "\u001b[?25hCollecting datasets (from ragas)\n",
            "  Downloading datasets-2.14.4-py3-none-any.whl (519 kB)\n",
            "\u001b[2K     \u001b[90m━━━━━━━━━━━━━━━━━━━━━━━━━━━━━━━━━━━━━━\u001b[0m \u001b[32m519.3/519.3 kB\u001b[0m \u001b[31m43.4 MB/s\u001b[0m eta \u001b[36m0:00:00\u001b[0m\n",
            "\u001b[?25hCollecting protobuf<=3.20.0 (from ragas)\n",
            "  Downloading protobuf-3.20.0-cp310-cp310-manylinux_2_12_x86_64.manylinux2010_x86_64.whl (1.1 MB)\n",
            "\u001b[2K     \u001b[90m━━━━━━━━━━━━━━━━━━━━━━━━━━━━━━━━━━━━━━━━\u001b[0m \u001b[32m1.1/1.1 MB\u001b[0m \u001b[31m38.8 MB/s\u001b[0m eta \u001b[36m0:00:00\u001b[0m\n",
            "\u001b[?25hCollecting pydantic<2.0 (from ragas)\n",
            "  Downloading pydantic-1.10.12-cp310-cp310-manylinux_2_17_x86_64.manylinux2014_x86_64.whl (3.1 MB)\n",
            "\u001b[2K     \u001b[90m━━━━━━━━━━━━━━━━━━━━━━━━━━━━━━━━━━━━━━━━\u001b[0m \u001b[32m3.1/3.1 MB\u001b[0m \u001b[31m50.5 MB/s\u001b[0m eta \u001b[36m0:00:00\u001b[0m\n",
            "\u001b[?25hRequirement already satisfied: filelock in /usr/local/lib/python3.10/dist-packages (from huggingface-hub>=0.4.0->sentence-transformers) (3.12.2)\n",
            "Requirement already satisfied: requests in /usr/local/lib/python3.10/dist-packages (from huggingface-hub>=0.4.0->sentence-transformers) (2.31.0)\n",
            "Requirement already satisfied: pyyaml>=5.1 in /usr/local/lib/python3.10/dist-packages (from huggingface-hub>=0.4.0->sentence-transformers) (6.0.1)\n",
            "Requirement already satisfied: packaging>=20.9 in /usr/local/lib/python3.10/dist-packages (from huggingface-hub>=0.4.0->sentence-transformers) (23.1)\n",
            "Requirement already satisfied: aiohttp<4.0.0,>=3.8.3 in /usr/local/lib/python3.10/dist-packages (from langchain>=0.0.262->llama_index==0.8.19) (3.8.5)\n",
            "Requirement already satisfied: async-timeout<5.0.0,>=4.0.0 in /usr/local/lib/python3.10/dist-packages (from langchain>=0.0.262->llama_index==0.8.19) (4.0.3)\n",
            "Collecting langsmith<0.1.0,>=0.0.21 (from langchain>=0.0.262->llama_index==0.8.19)\n",
            "  Downloading langsmith-0.0.33-py3-none-any.whl (36 kB)\n",
            "Requirement already satisfied: numexpr<3.0.0,>=2.8.4 in /usr/local/lib/python3.10/dist-packages (from langchain>=0.0.262->llama_index==0.8.19) (2.8.5)\n",
            "Collecting marshmallow<4.0.0,>=3.18.0 (from dataclasses-json->llama_index==0.8.19)\n",
            "  Downloading marshmallow-3.20.1-py3-none-any.whl (49 kB)\n",
            "\u001b[2K     \u001b[90m━━━━━━━━━━━━━━━━━━━━━━━━━━━━━━━━━━━━━━━━\u001b[0m \u001b[32m49.4/49.4 kB\u001b[0m \u001b[31m5.6 MB/s\u001b[0m eta \u001b[36m0:00:00\u001b[0m\n",
            "\u001b[?25hRequirement already satisfied: greenlet!=0.4.17 in /usr/local/lib/python3.10/dist-packages (from sqlalchemy>=2.0.15->llama_index==0.8.19) (2.0.2)\n",
            "Requirement already satisfied: sympy in /usr/local/lib/python3.10/dist-packages (from torch>=1.6.0->sentence-transformers) (1.12)\n",
            "Requirement already satisfied: networkx in /usr/local/lib/python3.10/dist-packages (from torch>=1.6.0->sentence-transformers) (3.1)\n",
            "Requirement already satisfied: jinja2 in /usr/local/lib/python3.10/dist-packages (from torch>=1.6.0->sentence-transformers) (3.1.2)\n",
            "Requirement already satisfied: triton==2.0.0 in /usr/local/lib/python3.10/dist-packages (from torch>=1.6.0->sentence-transformers) (2.0.0)\n",
            "Requirement already satisfied: cmake in /usr/local/lib/python3.10/dist-packages (from triton==2.0.0->torch>=1.6.0->sentence-transformers) (3.27.2)\n",
            "Requirement already satisfied: lit in /usr/local/lib/python3.10/dist-packages (from triton==2.0.0->torch>=1.6.0->sentence-transformers) (16.0.6)\n",
            "Requirement already satisfied: regex!=2019.12.17 in /usr/local/lib/python3.10/dist-packages (from transformers<5.0.0,>=4.6.0->sentence-transformers) (2023.6.3)\n",
            "Collecting tokenizers!=0.11.3,<0.14,>=0.11.1 (from transformers<5.0.0,>=4.6.0->sentence-transformers)\n",
            "  Downloading tokenizers-0.13.3-cp310-cp310-manylinux_2_17_x86_64.manylinux2014_x86_64.whl (7.8 MB)\n",
            "\u001b[2K     \u001b[90m━━━━━━━━━━━━━━━━━━━━━━━━━━━━━━━━━━━━━━━━\u001b[0m \u001b[32m7.8/7.8 MB\u001b[0m \u001b[31m63.3 MB/s\u001b[0m eta \u001b[36m0:00:00\u001b[0m\n",
            "\u001b[?25hCollecting safetensors>=0.3.1 (from transformers<5.0.0,>=4.6.0->sentence-transformers)\n",
            "  Downloading safetensors-0.3.3-cp310-cp310-manylinux_2_17_x86_64.manylinux2014_x86_64.whl (1.3 MB)\n",
            "\u001b[2K     \u001b[90m━━━━━━━━━━━━━━━━━━━━━━━━━━━━━━━━━━━━━━━━\u001b[0m \u001b[32m1.3/1.3 MB\u001b[0m \u001b[31m72.0 MB/s\u001b[0m eta \u001b[36m0:00:00\u001b[0m\n",
            "\u001b[?25hCollecting mypy-extensions>=0.3.0 (from typing-inspect>=0.8.0->llama_index==0.8.19)\n",
            "  Downloading mypy_extensions-1.0.0-py3-none-any.whl (4.7 kB)\n",
            "Requirement already satisfied: soupsieve>1.2 in /usr/local/lib/python3.10/dist-packages (from beautifulsoup4->llama_index==0.8.19) (2.4.1)\n",
            "Requirement already satisfied: pyarrow>=8.0.0 in /usr/local/lib/python3.10/dist-packages (from datasets->ragas) (9.0.0)\n",
            "Collecting dill<0.3.8,>=0.3.0 (from datasets->ragas)\n",
            "  Downloading dill-0.3.7-py3-none-any.whl (115 kB)\n",
            "\u001b[2K     \u001b[90m━━━━━━━━━━━━━━━━━━━━━━━━━━━━━━━━━━━━━━\u001b[0m \u001b[32m115.3/115.3 kB\u001b[0m \u001b[31m14.1 MB/s\u001b[0m eta \u001b[36m0:00:00\u001b[0m\n",
            "\u001b[?25hCollecting xxhash (from datasets->ragas)\n",
            "  Downloading xxhash-3.3.0-cp310-cp310-manylinux_2_17_x86_64.manylinux2014_x86_64.whl (194 kB)\n",
            "\u001b[2K     \u001b[90m━━━━━━━━━━━━━━━━━━━━━━━━━━━━━━━━━━━━━━\u001b[0m \u001b[32m194.1/194.1 kB\u001b[0m \u001b[31m21.4 MB/s\u001b[0m eta \u001b[36m0:00:00\u001b[0m\n",
            "\u001b[?25hCollecting multiprocess (from datasets->ragas)\n",
            "  Downloading multiprocess-0.70.15-py310-none-any.whl (134 kB)\n",
            "\u001b[2K     \u001b[90m━━━━━━━━━━━━━━━━━━━━━━━━━━━━━━━━━━━━━━\u001b[0m \u001b[32m134.8/134.8 kB\u001b[0m \u001b[31m15.4 MB/s\u001b[0m eta \u001b[36m0:00:00\u001b[0m\n",
            "\u001b[?25hRequirement already satisfied: click in /usr/local/lib/python3.10/dist-packages (from nltk->sentence-transformers) (8.1.7)\n",
            "Requirement already satisfied: joblib in /usr/local/lib/python3.10/dist-packages (from nltk->sentence-transformers) (1.3.2)\n",
            "Requirement already satisfied: python-dateutil>=2.8.1 in /usr/local/lib/python3.10/dist-packages (from pandas->llama_index==0.8.19) (2.8.2)\n",
            "Requirement already satisfied: pytz>=2020.1 in /usr/local/lib/python3.10/dist-packages (from pandas->llama_index==0.8.19) (2023.3)\n",
            "Requirement already satisfied: threadpoolctl>=2.0.0 in /usr/local/lib/python3.10/dist-packages (from scikit-learn->sentence-transformers) (3.2.0)\n",
            "Requirement already satisfied: pillow!=8.3.*,>=5.3.0 in /usr/local/lib/python3.10/dist-packages (from torchvision->sentence-transformers) (9.4.0)\n",
            "Requirement already satisfied: attrs>=17.3.0 in /usr/local/lib/python3.10/dist-packages (from aiohttp<4.0.0,>=3.8.3->langchain>=0.0.262->llama_index==0.8.19) (23.1.0)\n",
            "Requirement already satisfied: charset-normalizer<4.0,>=2.0 in /usr/local/lib/python3.10/dist-packages (from aiohttp<4.0.0,>=3.8.3->langchain>=0.0.262->llama_index==0.8.19) (3.2.0)\n",
            "Requirement already satisfied: multidict<7.0,>=4.5 in /usr/local/lib/python3.10/dist-packages (from aiohttp<4.0.0,>=3.8.3->langchain>=0.0.262->llama_index==0.8.19) (6.0.4)\n",
            "Requirement already satisfied: yarl<2.0,>=1.0 in /usr/local/lib/python3.10/dist-packages (from aiohttp<4.0.0,>=3.8.3->langchain>=0.0.262->llama_index==0.8.19) (1.9.2)\n",
            "Requirement already satisfied: frozenlist>=1.1.1 in /usr/local/lib/python3.10/dist-packages (from aiohttp<4.0.0,>=3.8.3->langchain>=0.0.262->llama_index==0.8.19) (1.4.0)\n",
            "Requirement already satisfied: aiosignal>=1.1.2 in /usr/local/lib/python3.10/dist-packages (from aiohttp<4.0.0,>=3.8.3->langchain>=0.0.262->llama_index==0.8.19) (1.3.1)\n",
            "Requirement already satisfied: six>=1.5 in /usr/local/lib/python3.10/dist-packages (from python-dateutil>=2.8.1->pandas->llama_index==0.8.19) (1.16.0)\n",
            "Requirement already satisfied: idna<4,>=2.5 in /usr/local/lib/python3.10/dist-packages (from requests->huggingface-hub>=0.4.0->sentence-transformers) (3.4)\n",
            "Requirement already satisfied: certifi>=2017.4.17 in /usr/local/lib/python3.10/dist-packages (from requests->huggingface-hub>=0.4.0->sentence-transformers) (2023.7.22)\n",
            "Requirement already satisfied: MarkupSafe>=2.0 in /usr/local/lib/python3.10/dist-packages (from jinja2->torch>=1.6.0->sentence-transformers) (2.1.3)\n",
            "Requirement already satisfied: mpmath>=0.19 in /usr/local/lib/python3.10/dist-packages (from sympy->torch>=1.6.0->sentence-transformers) (1.3.0)\n",
            "Building wheels for collected packages: sentence-transformers\n",
            "  Building wheel for sentence-transformers (setup.py) ... \u001b[?25l\u001b[?25hdone\n",
            "  Created wheel for sentence-transformers: filename=sentence_transformers-2.2.2-py3-none-any.whl size=125923 sha256=73042109ced2cad21436ef645360fa366602b826100faec469d2b7e5c871eb4d\n",
            "  Stored in directory: /root/.cache/pip/wheels/62/f2/10/1e606fd5f02395388f74e7462910fe851042f97238cbbd902f\n",
            "Successfully built sentence-transformers\n",
            "Installing collected packages: tokenizers, sentencepiece, safetensors, xxhash, urllib3, pypdf, pydantic, protobuf, mypy-extensions, marshmallow, dill, typing-inspect, multiprocess, tiktoken, openai, langsmith, huggingface-hub, dataclasses-json, transformers, langchain, datasets, llama_index, sentence-transformers, ragas\n",
            "  Attempting uninstall: urllib3\n",
            "    Found existing installation: urllib3 2.0.4\n",
            "    Uninstalling urllib3-2.0.4:\n",
            "      Successfully uninstalled urllib3-2.0.4\n",
            "  Attempting uninstall: pydantic\n",
            "    Found existing installation: pydantic 2.2.1\n",
            "    Uninstalling pydantic-2.2.1:\n",
            "      Successfully uninstalled pydantic-2.2.1\n",
            "  Attempting uninstall: protobuf\n",
            "    Found existing installation: protobuf 3.20.3\n",
            "    Uninstalling protobuf-3.20.3:\n",
            "      Successfully uninstalled protobuf-3.20.3\n",
            "\u001b[31mERROR: pip's dependency resolver does not currently take into account all the packages that are installed. This behaviour is the source of the following dependency conflicts.\n",
            "google-api-core 2.11.1 requires protobuf!=3.20.0,!=3.20.1,!=4.21.0,!=4.21.1,!=4.21.2,!=4.21.3,!=4.21.4,!=4.21.5,<5.0.0.dev0,>=3.19.5, but you have protobuf 3.20.0 which is incompatible.\n",
            "google-cloud-bigquery 3.10.0 requires protobuf!=3.20.0,!=3.20.1,!=4.21.0,!=4.21.1,!=4.21.2,!=4.21.3,!=4.21.4,!=4.21.5,<5.0.0dev,>=3.19.5, but you have protobuf 3.20.0 which is incompatible.\n",
            "google-cloud-bigquery-connection 1.12.1 requires protobuf!=3.20.0,!=3.20.1,!=4.21.0,!=4.21.1,!=4.21.2,!=4.21.3,!=4.21.4,!=4.21.5,<5.0.0dev,>=3.19.5, but you have protobuf 3.20.0 which is incompatible.\n",
            "google-cloud-bigquery-storage 2.22.0 requires protobuf!=3.20.0,!=3.20.1,!=4.21.0,!=4.21.1,!=4.21.2,!=4.21.3,!=4.21.4,!=4.21.5,<5.0.0dev,>=3.19.5, but you have protobuf 3.20.0 which is incompatible.\n",
            "google-cloud-datastore 2.15.2 requires protobuf!=3.20.0,!=3.20.1,!=4.21.0,!=4.21.1,!=4.21.2,!=4.21.3,!=4.21.4,!=4.21.5,<5.0.0dev,>=3.19.5, but you have protobuf 3.20.0 which is incompatible.\n",
            "google-cloud-firestore 2.11.1 requires protobuf!=3.20.0,!=3.20.1,!=4.21.0,!=4.21.1,!=4.21.2,!=4.21.3,!=4.21.4,!=4.21.5,<5.0.0dev,>=3.19.5, but you have protobuf 3.20.0 which is incompatible.\n",
            "google-cloud-functions 1.13.2 requires protobuf!=3.20.0,!=3.20.1,!=4.21.0,!=4.21.1,!=4.21.2,!=4.21.3,!=4.21.4,!=4.21.5,<5.0.0dev,>=3.19.5, but you have protobuf 3.20.0 which is incompatible.\n",
            "google-cloud-language 2.9.1 requires protobuf!=3.20.0,!=3.20.1,!=4.21.0,!=4.21.1,!=4.21.2,!=4.21.3,!=4.21.4,!=4.21.5,<5.0.0dev,>=3.19.5, but you have protobuf 3.20.0 which is incompatible.\n",
            "google-cloud-translate 3.11.3 requires protobuf!=3.20.0,!=3.20.1,!=4.21.0,!=4.21.1,!=4.21.2,!=4.21.3,!=4.21.4,!=4.21.5,<5.0.0dev,>=3.19.5, but you have protobuf 3.20.0 which is incompatible.\n",
            "googleapis-common-protos 1.60.0 requires protobuf!=3.20.0,!=3.20.1,!=4.21.1,!=4.21.2,!=4.21.3,!=4.21.4,!=4.21.5,<5.0.0.dev0,>=3.19.5, but you have protobuf 3.20.0 which is incompatible.\n",
            "grpc-google-iam-v1 0.12.6 requires protobuf!=3.20.0,!=3.20.1,!=4.21.1,!=4.21.2,!=4.21.3,!=4.21.4,!=4.21.5,<5.0.0dev,>=3.19.5, but you have protobuf 3.20.0 which is incompatible.\n",
            "tensorflow 2.12.0 requires protobuf!=4.21.0,!=4.21.1,!=4.21.2,!=4.21.3,!=4.21.4,!=4.21.5,<5.0.0dev,>=3.20.3, but you have protobuf 3.20.0 which is incompatible.\n",
            "tensorflow-metadata 1.14.0 requires protobuf<4.21,>=3.20.3, but you have protobuf 3.20.0 which is incompatible.\u001b[0m\u001b[31m\n",
            "\u001b[0mSuccessfully installed dataclasses-json-0.5.14 datasets-2.14.4 dill-0.3.7 huggingface-hub-0.16.4 langchain-0.0.279 langsmith-0.0.33 llama_index-0.8.19 marshmallow-3.20.1 multiprocess-0.70.15 mypy-extensions-1.0.0 openai-0.28.0 protobuf-3.20.0 pydantic-1.10.12 pypdf-3.15.5 ragas-0.0.11 safetensors-0.3.3 sentence-transformers-2.2.2 sentencepiece-0.1.99 tiktoken-0.4.0 tokenizers-0.13.3 transformers-4.32.1 typing-inspect-0.9.0 urllib3-1.26.16 xxhash-3.3.0\n"
          ]
        },
        {
          "output_type": "display_data",
          "data": {
            "application/vnd.colab-display-data+json": {
              "pip_warning": {
                "packages": [
                  "google"
                ]
              }
            }
          },
          "metadata": {}
        }
      ],
      "source": [
        "!pip install llama_index==0.8.19 pypdf sentence-transformers ragas"
      ]
    },
    {
      "cell_type": "code",
      "execution_count": 2,
      "metadata": {
        "id": "9saCbxN75wpn"
      },
      "outputs": [],
      "source": [
        "from llama_index import (\n",
        "    VectorStoreIndex,\n",
        "    SimpleDirectoryReader,\n",
        "    ServiceContext,\n",
        "    Response\n",
        ")\n",
        "from llama_index.evaluation import (\n",
        "    DatasetGenerator,\n",
        "    QueryResponseEvaluator,\n",
        "    ResponseEvaluator\n",
        ")\n",
        "from llama_index.llms import OpenAI\n",
        "import pandas as pd\n",
        "import openai\n",
        "import os"
      ]
    },
    {
      "cell_type": "code",
      "execution_count": 5,
      "metadata": {
        "id": "vpXcN6Mk5z44"
      },
      "outputs": [],
      "source": [
        "os.environ[\"OPENAI_API_KEY\"] = \"sk-##########\"\n",
        "openai.api_key = os.environ[\"OPENAI_API_KEY\"]\n",
        "\n",
        "#define LLM\n",
        "llm = OpenAI(temperature=0, model_name=\"gpt-3.5-turbo\")\n",
        "service_context = ServiceContext.from_defaults(llm=llm)"
      ]
    },
    {
      "cell_type": "code",
      "execution_count": 6,
      "metadata": {
        "colab": {
          "base_uri": "https://localhost:8080/"
        },
        "id": "kH1cDVefScjG",
        "outputId": "fb40fc55-e87d-4cff-e1d0-3e1ceb6522c1"
      },
      "outputs": [
        {
          "output_type": "stream",
          "name": "stdout",
          "text": [
            "  % Total    % Received % Xferd  Average Speed   Time    Time     Time  Current\n",
            "                                 Dload  Upload   Total   Spent    Left  Speed\n",
            "\r  0     0    0     0    0     0      0      0 --:--:-- --:--:-- --:--:--     0\r100 1541k  100 1541k    0     0  5751k      0 --:--:-- --:--:-- --:--:-- 5772k\n"
          ]
        }
      ],
      "source": [
        "!curl https://d18rn0p25nwr6d.cloudfront.net/CIK-0001045810/4e9abe7b-fdc7-4cd2-8487-dc3a99f30e98.pdf --output nvidia-sec-10k-2022.pdf"
      ]
    },
    {
      "cell_type": "code",
      "execution_count": 7,
      "metadata": {
        "id": "RJGjKa_F6cm_",
        "colab": {
          "base_uri": "https://localhost:8080/"
        },
        "outputId": "8f0daabb-f053-4afb-df30-b6fdddbad564"
      },
      "outputs": [
        {
          "output_type": "stream",
          "name": "stdout",
          "text": [
            "loaded documents with 169 pages\n"
          ]
        }
      ],
      "source": [
        "# Shuffle the documents\n",
        "import random\n",
        "\n",
        "# load documents\n",
        "documents = SimpleDirectoryReader(input_files=[\"nvidia-sec-10k-2022.pdf\"]).load_data()\n",
        "print(f\"loaded documents with {len(documents)} pages\")\n",
        "\n",
        "random.seed(42)\n",
        "random.shuffle(documents)\n",
        "\n",
        "gpt_35_context = ServiceContext.from_defaults(\n",
        "    llm=OpenAI(model=\"gpt-3.5-turbo\", temperature=0.3)\n",
        ")"
      ]
    },
    {
      "cell_type": "markdown",
      "metadata": {
        "id": "HnDgdaYZdi5s"
      },
      "source": [
        "## Generate datasets"
      ]
    },
    {
      "cell_type": "markdown",
      "source": [
        "Let's first generate two datasets, one for training, the other for eval"
      ],
      "metadata": {
        "id": "kxPBdDND4kjM"
      }
    },
    {
      "cell_type": "markdown",
      "source": [
        "### Training dataset"
      ],
      "metadata": {
        "id": "XKoxRYRE4sPP"
      }
    },
    {
      "cell_type": "code",
      "execution_count": 9,
      "metadata": {
        "id": "SARvN9TG6kRF"
      },
      "outputs": [],
      "source": [
        "import random\n",
        "random.seed(42)\n",
        "\n",
        "questions = []\n",
        "if os.path.exists(\"train_questions.txt\"):\n",
        "    with open(\"train_questions.txt\", \"r\") as f:\n",
        "        for line in f:\n",
        "            questions.append(line.strip())\n",
        "else:\n",
        "    question_gen_query = (\n",
        "        \"You are a Teacher/ Professor. Your task is to setup \"\n",
        "        \"a quiz/examination. Using the provided context from the NVIDIA SEC 10-K filing, formulate \"\n",
        "        \"a single question that captures an important fact from the context. \"\n",
        "        \"context. Restrict the question to the context information provided.\"\n",
        "    )\n",
        "    # generate questions\n",
        "    dataset_generator = DatasetGenerator.from_documents(\n",
        "        documents[:50],\n",
        "        question_gen_query=question_gen_query,\n",
        "        service_context=gpt_35_context,\n",
        "    )\n",
        "\n",
        "    questions = dataset_generator.generate_questions_from_nodes(num=40)\n",
        "    print(f\"Generated {len(questions)} questions.\")\n",
        "\n",
        "    # save the questions!\n",
        "    with open(\"train_questions.txt\", \"w\") as f:\n",
        "        for question in questions:\n",
        "            f.write(f\"{question.strip()}\\n\")"
      ]
    },
    {
      "cell_type": "code",
      "execution_count": 10,
      "metadata": {
        "colab": {
          "base_uri": "https://localhost:8080/"
        },
        "id": "f2vSXlCW7F2D",
        "outputId": "86b91579-4382-42e8-815c-024a3989236b"
      },
      "outputs": [
        {
          "output_type": "stream",
          "name": "stdout",
          "text": [
            "1. What factors could result in less demand for existing products?\n",
            "2. How could new or unexpected end use cases impact demand for products?\n",
            "3. What potential competitive actions could increase demand for competitive products?\n",
            "4. How could business decisions made by third parties affect product demand?\n",
            "5. What is the potential impact of increased demand for accelerated or AI-related cloud services on product demand?\n",
            "6. How could the demand for cryptocurrency mining impact product demand?\n",
            "7. What potential government actions or changes in governmental policies could affect product demand?\n",
            "8. What factors have contributed to the significant growth of supply, including inventory on hand, purchase obligations, and prepaid supply agreements?\n",
            "9. What potential risks are associated with misalignment between inventory or supply commitments and product demand?\n",
            "10. How have product transitions negatively impacted revenue in the past, and what challenges are associated with shipping new and legacy architecture products simultaneously?\n",
            "11. How could architecture transitions of Data Center, Professional Visualization, and Gaming products impact demand and supply mix?\n",
            "12. What factors could create reductions or volatility in revenue, such as qualification time for new products and channel partners reducing inventory ahead of new product introductions?\n",
            "13. How have prior product transitions been managed, and what potential impacts could arise if architectural transitions are not executed as planned?\n",
            "14. How have decisions made by channel partners, distributors, retailers, and end customers impacted demand forecasting?\n",
            "15. What potential challenges could arise if customers' future demand for products is underestimated and lead-time or capacity for production is insufficient?\n",
            "16. What risks are associated with failing to fulfill customers' orders on a timely basis?\n",
            "17. How could overestimating customers' future demand or customer cancellations/deferrals impact inventory and contractual purchase commitments?\n",
            "18. What impacts have been experienced in the past due to overestimation of future demand, such as reduction in average selling prices and the need for price increases?\n",
            "19. What risks are associated with non-cancellable and non-returnable purchasing terms and potential changes to the design of future products?\n",
            "20. How have purchase obligations and prepaids grown and become a greater portion of total supply, and what potential risks does this pose?\n",
            "21. What are the direct acquisition costs that are not associated with providing ongoing future benefit to the combined company?\n",
            "22. What are the compensation costs associated with an acquisition?\n",
            "23. How are exchange rate effects excluded in the financial calculations?\n",
            "24. How are changes to generally accepted accounting principles excluded in the financial calculations?\n",
            "25. How are statutory adjustments to corporate tax rates or changes in tax legislation excluded in the financial calculations?\n",
            "26. How are tax-related settlements excluded in the financial calculations?\n",
            "27. How are items of an unusual nature or infrequency of occurrence excluded in the financial calculations?\n",
            "28. How are the dilutive effects of acquisitions or joint ventures excluded in the financial calculations?\n",
            "29. How are changes in the outstanding shares of Common Stock excluded in the financial calculations?\n",
            "30. How are bonuses awarded under the Company's bonus plans excluded in the financial calculations?\n",
            "31. How are impairments of long-lived assets including goodwill, investments in non-affiliated entities, and intangible asset impairment charges excluded in the financial calculations?\n",
            "32. How are other significant events not related to ongoing business operations, such as large charitable donations, excluded in the financial calculations?\n",
            "33. How are divested businesses assumed to have achieved performance objectives at targeted levels during the balance of a Performance Period?\n",
            "34. How are non-operational credits included in the financial calculations?\n",
            "35. How are adjustments made to Awards that are not intended to qualify as \"performance-based compensation\" under Section 162(m) of the Code?\n",
            "36. What is the definition of \"Performance Period\" in relation to determining a Participant's right to and the payment of a Stock Award or a Performance Cash Award?\n",
            "37. How are Performance Periods determined and can they have varying and overlapping durations?\n",
            "38. What is a Performance Stock Award and what are its terms and conditions?\n",
            "39. What is the NVIDIA Corporation Amended and Restated 2007 Equity Incentive Plan?\n",
            "40. What are the Prior Plans in relation to the NVIDIA Corporation Amended and Restated 2007 Equity Incentive Plan?\n"
          ]
        }
      ],
      "source": [
        "for i, question in enumerate(questions, start=1):\n",
        "    print(f\"{i}. {question}\")"
      ]
    },
    {
      "cell_type": "markdown",
      "metadata": {
        "id": "78gqDyEpdpAU"
      },
      "source": [
        "### Eval dataset"
      ]
    },
    {
      "cell_type": "code",
      "execution_count": 11,
      "metadata": {
        "colab": {
          "base_uri": "https://localhost:8080/"
        },
        "id": "2-GoNDijdTMR",
        "outputId": "f8fe1af1-61ce-4df0-d443-09ff27204fb2"
      },
      "outputs": [
        {
          "output_type": "stream",
          "name": "stdout",
          "text": [
            "Generated 40 questions.\n"
          ]
        }
      ],
      "source": [
        "questions = []\n",
        "if os.path.exists(\"eval_questions.txt\"):\n",
        "    with open(\"eval_questions.txt\", \"r\") as f:\n",
        "        for line in f:\n",
        "            questions.append(line.strip())\n",
        "else:\n",
        "    dataset_generator = DatasetGenerator.from_documents(\n",
        "        documents[\n",
        "            50:\n",
        "        ],  # since we generated ~1 question for 40 documents, we can skip the first 40\n",
        "        question_gen_query=question_gen_query,\n",
        "        service_context=gpt_35_context,\n",
        "    )\n",
        "\n",
        "    questions = dataset_generator.generate_questions_from_nodes(num=40)\n",
        "    print(f\"Generated {len(questions)} questions.\")\n",
        "\n",
        "    # save the questions!\n",
        "    with open(\"eval_questions.txt\", \"w\") as f:\n",
        "        for question in questions:\n",
        "            f.write(f\"{question.strip()}\\n\")"
      ]
    },
    {
      "cell_type": "code",
      "execution_count": 12,
      "metadata": {
        "colab": {
          "base_uri": "https://localhost:8080/"
        },
        "id": "uhCjMZXRsNw9",
        "outputId": "730f016a-d179-4eca-ca86-c6b60e6ef920"
      },
      "outputs": [
        {
          "output_type": "stream",
          "name": "stdout",
          "text": [
            "1. How does the company recognize the benefit from a tax position?\n",
            "2. What is the company's policy regarding interest and penalties related to unrecognized tax benefits?\n",
            "3. How is basic net income per share computed?\n",
            "4. How is diluted net income per share computed?\n",
            "5. How does the company classify cash equivalents and marketable securities?\n",
            "6. What is the classification of the company's investments based on their nature and availability for use in current operations?\n",
            "7. How does the company report available-for-sale debt securities?\n",
            "8. How are realized gains and losses on the sale of marketable securities recorded?\n",
            "9. What is the periodic impairment review process for available-for-sale debt investments?\n",
            "10. How does the company determine the fair value of marketable securities?\n",
            "11. How are derivative instruments recognized and measured?\n",
            "12. What is the accounting treatment for changes in the fair value of derivative instruments?\n",
            "13. What financial instruments potentially subject the company to concentrations of credit risk?\n",
            "14. What is the company's investment policy regarding fixed income securities?\n",
            "15. How does the company evaluate customers' financial condition and manage potential credit losses?\n",
            "16. What is the requirement for repatriating cash proceeds to Thailand for Thai residents who realize US$1,000,000 or more in a single transaction from the sale of shares of Common Stock or the payment of dividends?\n",
            "17. What is the maximum amount of foreign currency that Taiwanese residents can acquire and remit into Taiwan without justification?\n",
            "18. Is the offer of participation in the Plan a public offer of securities by a Taiwanese company?\n",
            "19. Is the offer of the Award subject to registration in Switzerland?\n",
            "20. Are there any specific reporting requirements for Thai residents who repatriate amounts of US$1,000,000 or more to Thailand?\n",
            "21. What forms of legal consideration are acceptable for the payment of Restricted Stock Unit Awards?\n",
            "22. Can the Board impose restrictions or conditions on the vesting of Restricted Stock Unit Awards?\n",
            "23. What happens to a Restricted Stock Unit Award if a participant's Continuous Service terminates due to death?\n",
            "24. How can a Restricted Stock Unit Award be settled?\n",
            "25. Can the Board impose additional restrictions or conditions on the delivery of shares of Common Stock subject to a Restricted Stock Unit Award?\n",
            "26. What happens to the unvested portion of a Restricted Stock Unit Award upon a participant's termination of Continuous Service?\n",
            "27. What is a Performance Stock Award?\n",
            "28. What are the requirements for earning a Performance Stock Award?\n",
            "29. How is the length of a Performance Period determined?\n",
            "30. Who determines the Performance Goals and the measure of their attainment for a Performance Stock Award?\n",
            "31. What happens to a Performance Stock Award if a participant's Continuous Service terminates due to death?\n",
            "32. What is a Performance Cash Award?\n",
            "33. What are the requirements for earning a Performance Cash Award?\n",
            "34. How is the length of a Performance Period determined for a Performance Cash Award?\n",
            "35. Who determines the Performance Goals and the measure of their attainment for a Performance Cash Award?\n",
            "36. Can a participant defer the payment of a Performance Cash Award?\n",
            "37. What forms of payment can be specified for Performance Cash Awards?\n",
            "38. Can Common Stock be used in payment of Performance Cash Awards?\n",
            "39. Can additional shares of Common Stock be provided as an inducement to hold shares of Common Stock for Performance Cash Awards?\n",
            "40. What is the purpose of the online or electronic system established by the Company?\n"
          ]
        }
      ],
      "source": [
        "    for i, question in enumerate(questions, start=1):\n",
        "        print(f\"{i}. {question}\")"
      ]
    },
    {
      "cell_type": "markdown",
      "metadata": {
        "id": "TQF0y29NhHiP"
      },
      "source": [
        "## Baseline eval for gpt-3.5-turbo"
      ]
    },
    {
      "cell_type": "markdown",
      "source": [
        "Let's evaluate our base model with both ragas framework and evaluation module\n"
      ],
      "metadata": {
        "id": "EhuUMeel3s6R"
      }
    },
    {
      "cell_type": "markdown",
      "source": [
        "### Eval with ragas"
      ],
      "metadata": {
        "id": "tc7UzIT534uR"
      }
    },
    {
      "cell_type": "code",
      "execution_count": 41,
      "metadata": {
        "id": "krhe7berhQs8"
      },
      "outputs": [],
      "source": [
        "questions = []\n",
        "with open(\"eval_questions.txt\", \"r\") as f:\n",
        "    for line in f:\n",
        "        questions.append(line.strip())\n",
        "\n",
        "from llama_index import VectorStoreIndex\n",
        "\n",
        "gpt_35_context = ServiceContext.from_defaults(\n",
        "    llm=OpenAI(model=\"gpt-3.5-turbo\", temperature=0.3)\n",
        ")\n",
        "\n",
        "# build vector index and query engine\n",
        "index = VectorStoreIndex.from_documents(documents, service_context=gpt_35_context)\n",
        "query_engine = index.as_query_engine(similarity_top_k=2)\n"
      ]
    },
    {
      "cell_type": "code",
      "source": [
        "contexts = []\n",
        "answers = []\n",
        "\n",
        "for question in questions:\n",
        "    response = query_engine.query(question)\n",
        "    contexts.append([x.node.get_content() for x in response.source_nodes])\n",
        "    answers.append(str(response))"
      ],
      "metadata": {
        "id": "0VrZ1h6SwSsG"
      },
      "execution_count": 42,
      "outputs": []
    },
    {
      "cell_type": "code",
      "execution_count": 43,
      "metadata": {
        "colab": {
          "base_uri": "https://localhost:8080/"
        },
        "id": "ExQkW-R3iELR",
        "outputId": "d26cd8ed-9ebd-4fce-de50-1e0719ea20fb"
      },
      "outputs": [
        {
          "output_type": "stream",
          "name": "stdout",
          "text": [
            "evaluating with [answer_relevancy]\n"
          ]
        },
        {
          "output_type": "stream",
          "name": "stderr",
          "text": [
            "100%|██████████| 3/3 [00:46<00:00, 15.37s/it]\n"
          ]
        },
        {
          "output_type": "stream",
          "name": "stdout",
          "text": [
            "evaluating with [faithfulness]\n"
          ]
        },
        {
          "output_type": "stream",
          "name": "stderr",
          "text": [
            "100%|██████████| 3/3 [04:13<00:00, 84.44s/it]\n"
          ]
        },
        {
          "output_type": "stream",
          "name": "stdout",
          "text": [
            "{'ragas_score': 0.8947, 'answer_relevancy': 0.9627, 'faithfulness': 0.8356}\n"
          ]
        }
      ],
      "source": [
        "from datasets import Dataset\n",
        "from ragas import evaluate\n",
        "from ragas.metrics import answer_relevancy, faithfulness\n",
        "\n",
        "ds = Dataset.from_dict(\n",
        "    {\n",
        "        \"question\": questions,\n",
        "        \"answer\": answers,\n",
        "        \"contexts\": contexts,\n",
        "    }\n",
        ")\n",
        "\n",
        "result = evaluate(ds, [answer_relevancy, faithfulness])\n",
        "print(result)"
      ]
    },
    {
      "cell_type": "code",
      "source": [
        "import pandas as pd\n",
        "\n",
        "pd.set_option('display.max_colwidth', 200)\n",
        "result.to_pandas()"
      ],
      "metadata": {
        "id": "gahUKdj5O-9F",
        "outputId": "ffdf7e8e-ece3-4a1d-c753-a4eca10d0d37",
        "colab": {
          "base_uri": "https://localhost:8080/",
          "height": 1000
        }
      },
      "execution_count": 44,
      "outputs": [
        {
          "output_type": "execute_result",
          "data": {
            "text/plain": [
              "                                                                                                                                                                                                   question  \\\n",
              "0                                                                                                                                           How does the company recognize the benefit from a tax position?   \n",
              "1                                                                                                       What is the company's policy regarding interest and penalties related to unrecognized tax benefits?   \n",
              "2                                                                                                                                                               How is basic net income per share computed?   \n",
              "3                                                                                                                                                             How is diluted net income per share computed?   \n",
              "4                                                                                                                                 How does the company classify cash equivalents and marketable securities?   \n",
              "5                                                                             What is the classification of the company's investments based on their nature and availability for use in current operations?   \n",
              "6                                                                                                                                           How does the company report available-for-sale debt securities?   \n",
              "7                                                                                                                          How are realized gains and losses on the sale of marketable securities recorded?   \n",
              "8                                                                                                                   What is the periodic impairment review process for available-for-sale debt investments?   \n",
              "9                                                                                                                                   How does the company determine the fair value of marketable securities?   \n",
              "10                                                                                                                                                  How are derivative instruments recognized and measured?   \n",
              "11                                                                                                                What is the accounting treatment for changes in the fair value of derivative instruments?   \n",
              "12                                                                                                             What financial instruments potentially subject the company to concentrations of credit risk?   \n",
              "13                                                                                                                               What is the company's investment policy regarding fixed income securities?   \n",
              "14  What is the requirement for repatriating cash proceeds to Thailand for Thai residents who realize US$1,000,000 or more in a single transaction from the sale of shares of Common Stock or the paymen...   \n",
              "15                                                                         What is the maximum amount of foreign currency that Taiwanese residents can acquire and remit into Taiwan without justification?   \n",
              "16                                                                                                           Is the offer of participation in the Plan a public offer of securities by a Taiwanese company?   \n",
              "17                                                                                                                                        Is the offer of the Award subject to registration in Switzerland?   \n",
              "18                                                                             Are there any specific reporting requirements for Thai residents who repatriate amounts of US$1,000,000 or more to Thailand?   \n",
              "19                                                                                                        What forms of legal consideration are acceptable for the payment of Restricted Stock Unit Awards?   \n",
              "20                                                                                                          Can the Board impose restrictions or conditions on the vesting of Restricted Stock Unit Awards?   \n",
              "21                                                                                             What happens to a Restricted Stock Unit Award if a participant's Continuous Service terminates due to death?   \n",
              "22                                                                                                                                                        How can a Restricted Stock Unit Award be settled?   \n",
              "23                                                           Can the Board impose additional restrictions or conditions on the delivery of shares of Common Stock subject to a Restricted Stock Unit Award?   \n",
              "24                                                                            What happens to the unvested portion of a Restricted Stock Unit Award upon a participant's termination of Continuous Service?   \n",
              "25                                                                                                                                                                       What is a Performance Stock Award?   \n",
              "26                                                                                                                                         What are the requirements for earning a Performance Stock Award?   \n",
              "27                                                                                                  Who determines the Performance Goals and the measure of their attainment for a Performance Stock Award?   \n",
              "28                                                                                                 What happens to a Performance Stock Award if a participant's Continuous Service terminates due to death?   \n",
              "29                                                                                                                                                                        What is a Performance Cash Award?   \n",
              "30                                                                                                                                          What are the requirements for earning a Performance Cash Award?   \n",
              "31                                                                                                                       How is the length of a Performance Period determined for a Performance Cash Award?   \n",
              "32                                                                                                   Who determines the Performance Goals and the measure of their attainment for a Performance Cash Award?   \n",
              "33                                                                                                                                         Can a participant defer the payment of a Performance Cash Award?   \n",
              "34                                                                                                                                      What forms of payment can be specified for Performance Cash Awards?   \n",
              "35                                                                                                                                          Can Common Stock be used in payment of Performance Cash Awards?   \n",
              "\n",
              "                                                                                                                                                                                                     answer  \\\n",
              "0   The company recognizes the benefit from a tax position by including it as a component of income tax expense. They also accrue for the payment of interest and penalties related to unrecognized tax ...   \n",
              "1                                                                      The company's policy is to include interest and penalties related to unrecognized tax benefits as a component of income tax expense.   \n",
              "2                                                                                                   Basic net income per share is computed by dividing the net income by the basic weighted average shares.   \n",
              "3   Diluted net income per share is computed using the weighted average number of common and potentially dilutive shares outstanding during the period, using the treasury stock method. Under the treas...   \n",
              "4   The company classifies cash equivalents as highly liquid investments that are readily convertible into cash and have an original maturity of three months or less at the time of purchase. Marketabl...   \n",
              "5                                                                                   The company classifies its investments as current based on their nature and availability for use in current operations.   \n",
              "6   The company reports available-for-sale debt securities at fair value. The unrealized gains and losses related to these securities are included in accumulated other comprehensive income or loss, wh...   \n",
              "7                                         Realized gains and losses on the sale of marketable securities are recorded in the other income (expense), net, section of the Consolidated Statements of Income.   \n",
              "8   The periodic impairment review process for available-for-sale debt investments involves assessing whether there are any indicators of potential impairment. This can be done through a qualitative o...   \n",
              "9                                                                                                             The company determines the fair value of marketable securities based on quoted market prices.   \n",
              "10  Derivative instruments are recognized as either assets or liabilities and are measured at fair value. The accounting for changes in the fair value of a derivative depends on the intended use of th...   \n",
              "11  The accounting treatment for changes in the fair value of derivative instruments depends on the intended use of the derivative and the resulting designation. For derivative instruments designated ...   \n",
              "12                                    Financial instruments that potentially subject the company to concentrations of credit risk include cash equivalents, marketable securities, and accounts receivable.   \n",
              "13                                           The company's investment policy requires the purchase of highly-rated fixed income securities and the diversification of investment type and credit exposures.   \n",
              "14  Thai residents who realize US$1,000,000 or more in a single transaction from the sale of shares of Common Stock or the payment of dividends are required to repatriate the cash proceeds to Thailand...   \n",
              "15                                                                                Taiwanese residents can acquire and remit foreign currency into Taiwan up to US$5,000,000 per year without justification.   \n",
              "16                                                                                                   No, the offer of participation in the Plan is not a public offer of securities by a Taiwanese company.   \n",
              "17                                                                                                                                No, the offer of the Award is not subject to registration in Switzerland.   \n",
              "18  Yes, there are specific reporting requirements for Thai residents who repatriate amounts of US$1,000,000 or more to Thailand. They are required to report the inward remittance to the Bank of Thail...   \n",
              "19  The forms of legal consideration that are acceptable for the payment of Restricted Stock Unit Awards can be determined by the Board in its sole discretion and must be permissible under applicable ...   \n",
              "20                                                                                                     Yes, the Board can impose restrictions or conditions on the vesting of Restricted Stock Unit Awards.   \n",
              "21                                The Restricted Stock Unit Award becomes fully vested as of the date of termination of Continuous Service if the participant's Continuous Service terminates due to death.   \n",
              "22  A Restricted Stock Unit Award can be settled in various ways, including the delivery of shares of Common Stock, their cash equivalent, a combination of both, or any other form of consideration as ...   \n",
              "23                                                      Yes, the Board can impose additional restrictions or conditions on the delivery of shares of Common Stock subject to a Restricted Stock Unit Award.   \n",
              "24  The unvested portion of a Restricted Stock Unit Award is forfeited upon a participant's termination of Continuous Service, unless otherwise provided in the applicable Restricted Stock Unit Award A...   \n",
              "25  A Performance Stock Award is a type of Stock Award that is contingent upon the achievement of specific Performance Goals during a designated Performance Period. The Performance Goals, as well as t...   \n",
              "26  The requirements for earning a Performance Stock Award are contingent upon the attainment of certain Performance Goals during a specified Performance Period. The length of the Performance Period, ...   \n",
              "27                                                                                        The Committee determines the Performance Goals and the measure of their attainment for a Performance Stock Award.   \n",
              "28  If a participant's Continuous Service terminates due to death, the Performance Stock Award may be exercised by the participant's estate, a person who acquired the right to exercise the award by be...   \n",
              "29  A Performance Cash Award is an award of cash that is granted based on the attainment of certain Performance Goals during a specified Performance Period. The Performance Goals are determined by the...   \n",
              "30  The requirements for earning a Performance Cash Award are based on the Performance Criteria established by the Committee or the Board. These Performance Criteria can include various financial metr...   \n",
              "31                                                                                             The length of a Performance Period for a Performance Cash Award is determined by the Committee or the Board.   \n",
              "32                                                         The Committee, or in certain cases the Board, determines the Performance Goals and the measure of their attainment for a Performance Cash Award.   \n",
              "33  Yes, a participant can defer the payment of a Performance Cash Award. The Board, in its sole discretion, may determine that the delivery of cash, upon the exercise, vesting, or settlement of all o...   \n",
              "34  The forms of payment that can be specified for Performance Cash Awards include cash, other property, or Common Stock authorized under the Plan. Additionally, participants may have the option to el...   \n",
              "35                                                                                               Yes, Common Stock can be used in payment of Performance Cash Awards, as stated in the context information.   \n",
              "\n",
              "                                                                                                                                                                                                   contexts  \\\n",
              "0   [Table of Contents\\nprice basis by maximizing the use of observable inputs to determine the standalone selling price for each performance obligation); and (5)\\nrecognition of revenue when, or as, ...   \n",
              "1   [Table of Contents\\nNVIDIA CORPORATION AND SUBSIDIARIES\\nNOTES TO THE CONSOLIDATED FINANCIAL STATEMENTS\\n(Continued)\\nbe subject to limitations due to ownership changes and other limitations provi...   \n",
              "2   [Table of Contents\\nNVIDIA CORPORATION AND SUBSIDIARIES\\nNOTES TO THE CONSOLIDATED FINANCIAL STATEMENTS\\n(Continued)\\nNote 5 - Net Income Per Share\\nThe following is a reconciliation of the denomi...   \n",
              "3   [Table of Contents\\nNVIDIA CORPORATION AND SUBSIDIARIES\\nNOTES TO THE CONSOLIDATED FINANCIAL STATEMENTS\\n(Continued)\\nNote 5 - Net Income Per Share\\nThe following is a reconciliation of the denomi...   \n",
              "4   [Table of Contents\\nNVIDIA CORPORATION AND SUBSIDIARIES\\nNOTES TO THE CONSOLIDATED FINANCIAL STATEMENTS\\n(Continued)\\nWe recognize the benefit from a tax position only if it is more-likely-than-no...   \n",
              "5   [Table of Contents\\nNVIDIA CORPORATION AND SUBSIDIARIES\\nNOTES TO THE CONSOLIDATED FINANCIAL STATEMENTS\\n(Continued)\\nidentified for specific customers and an amount based on overall estimated exp...   \n",
              "6   [Table of Contents\\nNVIDIA CORPORATION AND SUBSIDIARIES\\nNOTES TO THE CONSOLIDATED FINANCIAL STATEMENTS\\n(Continued)\\nWe recognize the benefit from a tax position only if it is more-likely-than-no...   \n",
              "7   [Table of Contents\\nNVIDIA CORPORATION AND SUBSIDIARIES\\nNOTES TO THE CONSOLIDATED FINANCIAL STATEMENTS\\n(Continued)\\nThe following tables provide the breakdown of unrealized losses as of January ...   \n",
              "8   [Table of Contents\\nNVIDIA CORPORATION AND SUBSIDIARIES\\nNOTES TO THE CONSOLIDATED FINANCIAL STATEMENTS\\n(Continued)\\nidentified for specific customers and an amount based on overall estimated exp...   \n",
              "9   [Table of Contents\\nNVIDIA CORPORATION AND SUBSIDIARIES\\nNOTES TO THE CONSOLIDATED FINANCIAL STATEMENTS\\n(Continued)\\nWe recognize the benefit from a tax position only if it is more-likely-than-no...   \n",
              "10  [Table of Contents\\nNVIDIA CORPORATION AND SUBSIDIARIES\\nNOTES TO THE CONSOLIDATED FINANCIAL STATEMENTS\\n(Continued)\\nWe recognize the benefit from a tax position only if it is more-likely-than-no...   \n",
              "11  [Table of Contents\\nNVIDIA CORPORATION AND SUBSIDIARIES\\nNOTES TO THE CONSOLIDATED FINANCIAL STATEMENTS\\n(Continued)\\nWe recognize the benefit from a tax position only if it is more-likely-than-no...   \n",
              "12  [Table of Contents\\nNVIDIA CORPORATION AND SUBSIDIARIES\\nNOTES TO THE CONSOLIDATED FINANCIAL STATEMENTS\\n(Continued)\\nWe recognize the benefit from a tax position only if it is more-likely-than-no...   \n",
              "13  [Table of Contents\\nNVIDIA CORPORATION AND SUBSIDIARIES\\nNOTES TO THE CONSOLIDATED FINANCIAL STATEMENTS\\n(Continued)\\nWe recognize the benefit from a tax position only if it is more-likely-than-no...   \n",
              "14  [to satisfy Tax-Related Items, regardless of whether the Company and/or the Service Recipient have an obligation to\\nwithhold such Tax-Related Items.\\nSWITZERLAND\\nNotifications\\nSecurities Law In...   \n",
              "15  [to satisfy Tax-Related Items, regardless of whether the Company and/or the Service Recipient have an obligation to\\nwithhold such Tax-Related Items.\\nSWITZERLAND\\nNotifications\\nSecurities Law In...   \n",
              "16  [to satisfy Tax-Related Items, regardless of whether the Company and/or the Service Recipient have an obligation to\\nwithhold such Tax-Related Items.\\nSWITZERLAND\\nNotifications\\nSecurities Law In...   \n",
              "17  [to satisfy Tax-Related Items, regardless of whether the Company and/or the Service Recipient have an obligation to\\nwithhold such Tax-Related Items.\\nSWITZERLAND\\nNotifications\\nSecurities Law In...   \n",
              "18  [JAPAN\\nNotifications\\nForeign Asset/Acc ount Reporting Information . Japanese residen ts are required to report details of any assets held\\noutside Japan (e.g., shares of Comm on Stock acquired u...   \n",
              "19  [Restricted Stock Unit Award may be paid in any form of legal consideration that may be acceptable to the Board in its sole discretion and\\npermissible under applicable law.\\n(ii) Vesting. At the ...   \n",
              "20  [Restricted Stock Unit Award may be paid in any form of legal consideration that may be acceptable to the Board in its sole discretion and\\npermissible under applicable law.\\n(ii) Vesting. At the ...   \n",
              "21  [Restricted Stock Unit Award may be paid in any form of legal consideration that may be acceptable to the Board in its sole discretion and\\npermissible under applicable law.\\n(ii) Vesting. At the ...   \n",
              "22  [Restricted Stock Unit Award may be paid in any form of legal consideration that may be acceptable to the Board in its sole discretion and\\npermissible under applicable law.\\n(ii) Vesting. At the ...   \n",
              "23  [Restricted Stock Unit Award may be paid in any form of legal consideration that may be acceptable to the Board in its sole discretion and\\npermissible under applicable law.\\n(ii) Vesting. At the ...   \n",
              "24  [Restricted Stock Unit Award may be paid in any form of legal consideration that may be acceptable to the Board in its sole discretion and\\npermissible under applicable law.\\n(ii) Vesting. At the ...   \n",
              "25  [Restricted Stock Unit Award may be paid in any form of legal consideration that may be acceptable to the Board in its sole discretion and\\npermissible under applicable law.\\n(ii) Vesting. At the ...   \n",
              "26  [(iii) Section 162(m) Compliance. Unless otherwise permitted in compliance with the requirements of Section 162(m) of the Code\\nwith respect to any Award intended to qualify as “performance-based ...   \n",
              "27  [(iii) Section 162(m) Compliance. Unless otherwise permitted in compliance with the requirements of Section 162(m) of the Code\\nwith respect to any Award intended to qualify as “performance-based ...   \n",
              "28  [(g)Termination of Continuous Service.Except as otherwise provided in the applicable Award Agreement or other agreement between\\nthe Participant and the Company, in the event that a Participant’s ...   \n",
              "29  [(jj) “Own,” “Owned,” “Owner,” “Ownership” means a person or Entity will be deemed to “Own,” to have “Owned,” to be the “Owner” of, or to\\nhave acquired “Ownership” of securities if such person or...   \n",
              "30  [(jj) “Own,” “Owned,” “Owner,” “Ownership” means a person or Entity will be deemed to “Own,” to have “Owned,” to be the “Owner” of, or to\\nhave acquired “Ownership” of securities if such person or...   \n",
              "31  [(jj) “Own,” “Owned,” “Owner,” “Ownership” means a person or Entity will be deemed to “Own,” to have “Owned,” to be the “Owner” of, or to\\nhave acquired “Ownership” of securities if such person or...   \n",
              "32  [(jj) “Own,” “Owned,” “Owner,” “Ownership” means a person or Entity will be deemed to “Own,” to have “Owned,” to be the “Owner” of, or to\\nhave acquired “Ownership” of securities if such person or...   \n",
              "33  [(iii) Section 162(m) Compliance. Unless otherwise permitted in compliance with the requirements of Section 162(m) of the Code\\nwith respect to any Award intended to qualify as “performance-based ...   \n",
              "34  [Restricted Stock Unit Award may be paid in any form of legal consideration that may be acceptable to the Board in its sole discretion and\\npermissible under applicable law.\\n(ii) Vesting. At the ...   \n",
              "35  [(iii) Section 162(m) Compliance. Unless otherwise permitted in compliance with the requirements of Section 162(m) of the Code\\nwith respect to any Award intended to qualify as “performance-based ...   \n",
              "\n",
              "    answer_relevancy  faithfulness  \n",
              "0           0.863815      1.000000  \n",
              "1           1.000000      1.000000  \n",
              "2           0.989098      1.000000  \n",
              "3           0.962703      0.666667  \n",
              "4           1.000000      0.500000  \n",
              "5           0.925417      1.000000  \n",
              "6           0.940945      1.000000  \n",
              "7           0.973576      1.000000  \n",
              "8           0.985753      1.000000  \n",
              "9           1.000000      0.500000  \n",
              "10          0.924608      1.000000  \n",
              "11          0.999935      0.750000  \n",
              "12          0.987584      0.666667  \n",
              "13          0.937373      0.500000  \n",
              "14          0.960188      0.666667  \n",
              "15          0.993127      1.000000  \n",
              "16          0.994895      1.000000  \n",
              "17          0.962559      1.000000  \n",
              "18          0.987930      1.000000  \n",
              "19          0.966213      1.000000  \n",
              "20          0.981541      1.000000  \n",
              "21          0.885942      0.500000  \n",
              "22          0.959898      0.500000  \n",
              "23          0.994181      1.000000  \n",
              "24          0.993484      0.500000  \n",
              "25          0.962006      0.666667  \n",
              "26          0.956836      1.000000  \n",
              "27          0.934809      1.000000  \n",
              "28          0.954748      1.000000  \n",
              "29          0.964014      1.000000  \n",
              "30          0.951521      1.000000  \n",
              "31          0.977090      0.000000  \n",
              "32          0.999999      1.000000  \n",
              "33          0.948432      0.666667  \n",
              "34          0.929358      1.000000  \n",
              "35          0.908985      1.000000  "
            ],
            "text/html": [
              "\n",
              "  <div id=\"df-f4b575c2-394f-498e-bdc0-4e83f65b59df\" class=\"colab-df-container\">\n",
              "    <div>\n",
              "<style scoped>\n",
              "    .dataframe tbody tr th:only-of-type {\n",
              "        vertical-align: middle;\n",
              "    }\n",
              "\n",
              "    .dataframe tbody tr th {\n",
              "        vertical-align: top;\n",
              "    }\n",
              "\n",
              "    .dataframe thead th {\n",
              "        text-align: right;\n",
              "    }\n",
              "</style>\n",
              "<table border=\"1\" class=\"dataframe\">\n",
              "  <thead>\n",
              "    <tr style=\"text-align: right;\">\n",
              "      <th></th>\n",
              "      <th>question</th>\n",
              "      <th>answer</th>\n",
              "      <th>contexts</th>\n",
              "      <th>answer_relevancy</th>\n",
              "      <th>faithfulness</th>\n",
              "    </tr>\n",
              "  </thead>\n",
              "  <tbody>\n",
              "    <tr>\n",
              "      <th>0</th>\n",
              "      <td>How does the company recognize the benefit from a tax position?</td>\n",
              "      <td>The company recognizes the benefit from a tax position by including it as a component of income tax expense. They also accrue for the payment of interest and penalties related to unrecognized tax ...</td>\n",
              "      <td>[Table of Contents\\nprice basis by maximizing the use of observable inputs to determine the standalone selling price for each performance obligation); and (5)\\nrecognition of revenue when, or as, ...</td>\n",
              "      <td>0.863815</td>\n",
              "      <td>1.000000</td>\n",
              "    </tr>\n",
              "    <tr>\n",
              "      <th>1</th>\n",
              "      <td>What is the company's policy regarding interest and penalties related to unrecognized tax benefits?</td>\n",
              "      <td>The company's policy is to include interest and penalties related to unrecognized tax benefits as a component of income tax expense.</td>\n",
              "      <td>[Table of Contents\\nNVIDIA CORPORATION AND SUBSIDIARIES\\nNOTES TO THE CONSOLIDATED FINANCIAL STATEMENTS\\n(Continued)\\nbe subject to limitations due to ownership changes and other limitations provi...</td>\n",
              "      <td>1.000000</td>\n",
              "      <td>1.000000</td>\n",
              "    </tr>\n",
              "    <tr>\n",
              "      <th>2</th>\n",
              "      <td>How is basic net income per share computed?</td>\n",
              "      <td>Basic net income per share is computed by dividing the net income by the basic weighted average shares.</td>\n",
              "      <td>[Table of Contents\\nNVIDIA CORPORATION AND SUBSIDIARIES\\nNOTES TO THE CONSOLIDATED FINANCIAL STATEMENTS\\n(Continued)\\nNote 5 - Net Income Per Share\\nThe following is a reconciliation of the denomi...</td>\n",
              "      <td>0.989098</td>\n",
              "      <td>1.000000</td>\n",
              "    </tr>\n",
              "    <tr>\n",
              "      <th>3</th>\n",
              "      <td>How is diluted net income per share computed?</td>\n",
              "      <td>Diluted net income per share is computed using the weighted average number of common and potentially dilutive shares outstanding during the period, using the treasury stock method. Under the treas...</td>\n",
              "      <td>[Table of Contents\\nNVIDIA CORPORATION AND SUBSIDIARIES\\nNOTES TO THE CONSOLIDATED FINANCIAL STATEMENTS\\n(Continued)\\nNote 5 - Net Income Per Share\\nThe following is a reconciliation of the denomi...</td>\n",
              "      <td>0.962703</td>\n",
              "      <td>0.666667</td>\n",
              "    </tr>\n",
              "    <tr>\n",
              "      <th>4</th>\n",
              "      <td>How does the company classify cash equivalents and marketable securities?</td>\n",
              "      <td>The company classifies cash equivalents as highly liquid investments that are readily convertible into cash and have an original maturity of three months or less at the time of purchase. Marketabl...</td>\n",
              "      <td>[Table of Contents\\nNVIDIA CORPORATION AND SUBSIDIARIES\\nNOTES TO THE CONSOLIDATED FINANCIAL STATEMENTS\\n(Continued)\\nWe recognize the benefit from a tax position only if it is more-likely-than-no...</td>\n",
              "      <td>1.000000</td>\n",
              "      <td>0.500000</td>\n",
              "    </tr>\n",
              "    <tr>\n",
              "      <th>5</th>\n",
              "      <td>What is the classification of the company's investments based on their nature and availability for use in current operations?</td>\n",
              "      <td>The company classifies its investments as current based on their nature and availability for use in current operations.</td>\n",
              "      <td>[Table of Contents\\nNVIDIA CORPORATION AND SUBSIDIARIES\\nNOTES TO THE CONSOLIDATED FINANCIAL STATEMENTS\\n(Continued)\\nidentified for specific customers and an amount based on overall estimated exp...</td>\n",
              "      <td>0.925417</td>\n",
              "      <td>1.000000</td>\n",
              "    </tr>\n",
              "    <tr>\n",
              "      <th>6</th>\n",
              "      <td>How does the company report available-for-sale debt securities?</td>\n",
              "      <td>The company reports available-for-sale debt securities at fair value. The unrealized gains and losses related to these securities are included in accumulated other comprehensive income or loss, wh...</td>\n",
              "      <td>[Table of Contents\\nNVIDIA CORPORATION AND SUBSIDIARIES\\nNOTES TO THE CONSOLIDATED FINANCIAL STATEMENTS\\n(Continued)\\nWe recognize the benefit from a tax position only if it is more-likely-than-no...</td>\n",
              "      <td>0.940945</td>\n",
              "      <td>1.000000</td>\n",
              "    </tr>\n",
              "    <tr>\n",
              "      <th>7</th>\n",
              "      <td>How are realized gains and losses on the sale of marketable securities recorded?</td>\n",
              "      <td>Realized gains and losses on the sale of marketable securities are recorded in the other income (expense), net, section of the Consolidated Statements of Income.</td>\n",
              "      <td>[Table of Contents\\nNVIDIA CORPORATION AND SUBSIDIARIES\\nNOTES TO THE CONSOLIDATED FINANCIAL STATEMENTS\\n(Continued)\\nThe following tables provide the breakdown of unrealized losses as of January ...</td>\n",
              "      <td>0.973576</td>\n",
              "      <td>1.000000</td>\n",
              "    </tr>\n",
              "    <tr>\n",
              "      <th>8</th>\n",
              "      <td>What is the periodic impairment review process for available-for-sale debt investments?</td>\n",
              "      <td>The periodic impairment review process for available-for-sale debt investments involves assessing whether there are any indicators of potential impairment. This can be done through a qualitative o...</td>\n",
              "      <td>[Table of Contents\\nNVIDIA CORPORATION AND SUBSIDIARIES\\nNOTES TO THE CONSOLIDATED FINANCIAL STATEMENTS\\n(Continued)\\nidentified for specific customers and an amount based on overall estimated exp...</td>\n",
              "      <td>0.985753</td>\n",
              "      <td>1.000000</td>\n",
              "    </tr>\n",
              "    <tr>\n",
              "      <th>9</th>\n",
              "      <td>How does the company determine the fair value of marketable securities?</td>\n",
              "      <td>The company determines the fair value of marketable securities based on quoted market prices.</td>\n",
              "      <td>[Table of Contents\\nNVIDIA CORPORATION AND SUBSIDIARIES\\nNOTES TO THE CONSOLIDATED FINANCIAL STATEMENTS\\n(Continued)\\nWe recognize the benefit from a tax position only if it is more-likely-than-no...</td>\n",
              "      <td>1.000000</td>\n",
              "      <td>0.500000</td>\n",
              "    </tr>\n",
              "    <tr>\n",
              "      <th>10</th>\n",
              "      <td>How are derivative instruments recognized and measured?</td>\n",
              "      <td>Derivative instruments are recognized as either assets or liabilities and are measured at fair value. The accounting for changes in the fair value of a derivative depends on the intended use of th...</td>\n",
              "      <td>[Table of Contents\\nNVIDIA CORPORATION AND SUBSIDIARIES\\nNOTES TO THE CONSOLIDATED FINANCIAL STATEMENTS\\n(Continued)\\nWe recognize the benefit from a tax position only if it is more-likely-than-no...</td>\n",
              "      <td>0.924608</td>\n",
              "      <td>1.000000</td>\n",
              "    </tr>\n",
              "    <tr>\n",
              "      <th>11</th>\n",
              "      <td>What is the accounting treatment for changes in the fair value of derivative instruments?</td>\n",
              "      <td>The accounting treatment for changes in the fair value of derivative instruments depends on the intended use of the derivative and the resulting designation. For derivative instruments designated ...</td>\n",
              "      <td>[Table of Contents\\nNVIDIA CORPORATION AND SUBSIDIARIES\\nNOTES TO THE CONSOLIDATED FINANCIAL STATEMENTS\\n(Continued)\\nWe recognize the benefit from a tax position only if it is more-likely-than-no...</td>\n",
              "      <td>0.999935</td>\n",
              "      <td>0.750000</td>\n",
              "    </tr>\n",
              "    <tr>\n",
              "      <th>12</th>\n",
              "      <td>What financial instruments potentially subject the company to concentrations of credit risk?</td>\n",
              "      <td>Financial instruments that potentially subject the company to concentrations of credit risk include cash equivalents, marketable securities, and accounts receivable.</td>\n",
              "      <td>[Table of Contents\\nNVIDIA CORPORATION AND SUBSIDIARIES\\nNOTES TO THE CONSOLIDATED FINANCIAL STATEMENTS\\n(Continued)\\nWe recognize the benefit from a tax position only if it is more-likely-than-no...</td>\n",
              "      <td>0.987584</td>\n",
              "      <td>0.666667</td>\n",
              "    </tr>\n",
              "    <tr>\n",
              "      <th>13</th>\n",
              "      <td>What is the company's investment policy regarding fixed income securities?</td>\n",
              "      <td>The company's investment policy requires the purchase of highly-rated fixed income securities and the diversification of investment type and credit exposures.</td>\n",
              "      <td>[Table of Contents\\nNVIDIA CORPORATION AND SUBSIDIARIES\\nNOTES TO THE CONSOLIDATED FINANCIAL STATEMENTS\\n(Continued)\\nWe recognize the benefit from a tax position only if it is more-likely-than-no...</td>\n",
              "      <td>0.937373</td>\n",
              "      <td>0.500000</td>\n",
              "    </tr>\n",
              "    <tr>\n",
              "      <th>14</th>\n",
              "      <td>What is the requirement for repatriating cash proceeds to Thailand for Thai residents who realize US$1,000,000 or more in a single transaction from the sale of shares of Common Stock or the paymen...</td>\n",
              "      <td>Thai residents who realize US$1,000,000 or more in a single transaction from the sale of shares of Common Stock or the payment of dividends are required to repatriate the cash proceeds to Thailand...</td>\n",
              "      <td>[to satisfy Tax-Related Items, regardless of whether the Company and/or the Service Recipient have an obligation to\\nwithhold such Tax-Related Items.\\nSWITZERLAND\\nNotifications\\nSecurities Law In...</td>\n",
              "      <td>0.960188</td>\n",
              "      <td>0.666667</td>\n",
              "    </tr>\n",
              "    <tr>\n",
              "      <th>15</th>\n",
              "      <td>What is the maximum amount of foreign currency that Taiwanese residents can acquire and remit into Taiwan without justification?</td>\n",
              "      <td>Taiwanese residents can acquire and remit foreign currency into Taiwan up to US$5,000,000 per year without justification.</td>\n",
              "      <td>[to satisfy Tax-Related Items, regardless of whether the Company and/or the Service Recipient have an obligation to\\nwithhold such Tax-Related Items.\\nSWITZERLAND\\nNotifications\\nSecurities Law In...</td>\n",
              "      <td>0.993127</td>\n",
              "      <td>1.000000</td>\n",
              "    </tr>\n",
              "    <tr>\n",
              "      <th>16</th>\n",
              "      <td>Is the offer of participation in the Plan a public offer of securities by a Taiwanese company?</td>\n",
              "      <td>No, the offer of participation in the Plan is not a public offer of securities by a Taiwanese company.</td>\n",
              "      <td>[to satisfy Tax-Related Items, regardless of whether the Company and/or the Service Recipient have an obligation to\\nwithhold such Tax-Related Items.\\nSWITZERLAND\\nNotifications\\nSecurities Law In...</td>\n",
              "      <td>0.994895</td>\n",
              "      <td>1.000000</td>\n",
              "    </tr>\n",
              "    <tr>\n",
              "      <th>17</th>\n",
              "      <td>Is the offer of the Award subject to registration in Switzerland?</td>\n",
              "      <td>No, the offer of the Award is not subject to registration in Switzerland.</td>\n",
              "      <td>[to satisfy Tax-Related Items, regardless of whether the Company and/or the Service Recipient have an obligation to\\nwithhold such Tax-Related Items.\\nSWITZERLAND\\nNotifications\\nSecurities Law In...</td>\n",
              "      <td>0.962559</td>\n",
              "      <td>1.000000</td>\n",
              "    </tr>\n",
              "    <tr>\n",
              "      <th>18</th>\n",
              "      <td>Are there any specific reporting requirements for Thai residents who repatriate amounts of US$1,000,000 or more to Thailand?</td>\n",
              "      <td>Yes, there are specific reporting requirements for Thai residents who repatriate amounts of US$1,000,000 or more to Thailand. They are required to report the inward remittance to the Bank of Thail...</td>\n",
              "      <td>[JAPAN\\nNotifications\\nForeign Asset/Acc ount Reporting Information . Japanese residen ts are required to report details of any assets held\\noutside Japan (e.g., shares of Comm on Stock acquired u...</td>\n",
              "      <td>0.987930</td>\n",
              "      <td>1.000000</td>\n",
              "    </tr>\n",
              "    <tr>\n",
              "      <th>19</th>\n",
              "      <td>What forms of legal consideration are acceptable for the payment of Restricted Stock Unit Awards?</td>\n",
              "      <td>The forms of legal consideration that are acceptable for the payment of Restricted Stock Unit Awards can be determined by the Board in its sole discretion and must be permissible under applicable ...</td>\n",
              "      <td>[Restricted Stock Unit Award may be paid in any form of legal consideration that may be acceptable to the Board in its sole discretion and\\npermissible under applicable law.\\n(ii) Vesting. At the ...</td>\n",
              "      <td>0.966213</td>\n",
              "      <td>1.000000</td>\n",
              "    </tr>\n",
              "    <tr>\n",
              "      <th>20</th>\n",
              "      <td>Can the Board impose restrictions or conditions on the vesting of Restricted Stock Unit Awards?</td>\n",
              "      <td>Yes, the Board can impose restrictions or conditions on the vesting of Restricted Stock Unit Awards.</td>\n",
              "      <td>[Restricted Stock Unit Award may be paid in any form of legal consideration that may be acceptable to the Board in its sole discretion and\\npermissible under applicable law.\\n(ii) Vesting. At the ...</td>\n",
              "      <td>0.981541</td>\n",
              "      <td>1.000000</td>\n",
              "    </tr>\n",
              "    <tr>\n",
              "      <th>21</th>\n",
              "      <td>What happens to a Restricted Stock Unit Award if a participant's Continuous Service terminates due to death?</td>\n",
              "      <td>The Restricted Stock Unit Award becomes fully vested as of the date of termination of Continuous Service if the participant's Continuous Service terminates due to death.</td>\n",
              "      <td>[Restricted Stock Unit Award may be paid in any form of legal consideration that may be acceptable to the Board in its sole discretion and\\npermissible under applicable law.\\n(ii) Vesting. At the ...</td>\n",
              "      <td>0.885942</td>\n",
              "      <td>0.500000</td>\n",
              "    </tr>\n",
              "    <tr>\n",
              "      <th>22</th>\n",
              "      <td>How can a Restricted Stock Unit Award be settled?</td>\n",
              "      <td>A Restricted Stock Unit Award can be settled in various ways, including the delivery of shares of Common Stock, their cash equivalent, a combination of both, or any other form of consideration as ...</td>\n",
              "      <td>[Restricted Stock Unit Award may be paid in any form of legal consideration that may be acceptable to the Board in its sole discretion and\\npermissible under applicable law.\\n(ii) Vesting. At the ...</td>\n",
              "      <td>0.959898</td>\n",
              "      <td>0.500000</td>\n",
              "    </tr>\n",
              "    <tr>\n",
              "      <th>23</th>\n",
              "      <td>Can the Board impose additional restrictions or conditions on the delivery of shares of Common Stock subject to a Restricted Stock Unit Award?</td>\n",
              "      <td>Yes, the Board can impose additional restrictions or conditions on the delivery of shares of Common Stock subject to a Restricted Stock Unit Award.</td>\n",
              "      <td>[Restricted Stock Unit Award may be paid in any form of legal consideration that may be acceptable to the Board in its sole discretion and\\npermissible under applicable law.\\n(ii) Vesting. At the ...</td>\n",
              "      <td>0.994181</td>\n",
              "      <td>1.000000</td>\n",
              "    </tr>\n",
              "    <tr>\n",
              "      <th>24</th>\n",
              "      <td>What happens to the unvested portion of a Restricted Stock Unit Award upon a participant's termination of Continuous Service?</td>\n",
              "      <td>The unvested portion of a Restricted Stock Unit Award is forfeited upon a participant's termination of Continuous Service, unless otherwise provided in the applicable Restricted Stock Unit Award A...</td>\n",
              "      <td>[Restricted Stock Unit Award may be paid in any form of legal consideration that may be acceptable to the Board in its sole discretion and\\npermissible under applicable law.\\n(ii) Vesting. At the ...</td>\n",
              "      <td>0.993484</td>\n",
              "      <td>0.500000</td>\n",
              "    </tr>\n",
              "    <tr>\n",
              "      <th>25</th>\n",
              "      <td>What is a Performance Stock Award?</td>\n",
              "      <td>A Performance Stock Award is a type of Stock Award that is contingent upon the achievement of specific Performance Goals during a designated Performance Period. The Performance Goals, as well as t...</td>\n",
              "      <td>[Restricted Stock Unit Award may be paid in any form of legal consideration that may be acceptable to the Board in its sole discretion and\\npermissible under applicable law.\\n(ii) Vesting. At the ...</td>\n",
              "      <td>0.962006</td>\n",
              "      <td>0.666667</td>\n",
              "    </tr>\n",
              "    <tr>\n",
              "      <th>26</th>\n",
              "      <td>What are the requirements for earning a Performance Stock Award?</td>\n",
              "      <td>The requirements for earning a Performance Stock Award are contingent upon the attainment of certain Performance Goals during a specified Performance Period. The length of the Performance Period, ...</td>\n",
              "      <td>[(iii) Section 162(m) Compliance. Unless otherwise permitted in compliance with the requirements of Section 162(m) of the Code\\nwith respect to any Award intended to qualify as “performance-based ...</td>\n",
              "      <td>0.956836</td>\n",
              "      <td>1.000000</td>\n",
              "    </tr>\n",
              "    <tr>\n",
              "      <th>27</th>\n",
              "      <td>Who determines the Performance Goals and the measure of their attainment for a Performance Stock Award?</td>\n",
              "      <td>The Committee determines the Performance Goals and the measure of their attainment for a Performance Stock Award.</td>\n",
              "      <td>[(iii) Section 162(m) Compliance. Unless otherwise permitted in compliance with the requirements of Section 162(m) of the Code\\nwith respect to any Award intended to qualify as “performance-based ...</td>\n",
              "      <td>0.934809</td>\n",
              "      <td>1.000000</td>\n",
              "    </tr>\n",
              "    <tr>\n",
              "      <th>28</th>\n",
              "      <td>What happens to a Performance Stock Award if a participant's Continuous Service terminates due to death?</td>\n",
              "      <td>If a participant's Continuous Service terminates due to death, the Performance Stock Award may be exercised by the participant's estate, a person who acquired the right to exercise the award by be...</td>\n",
              "      <td>[(g)Termination of Continuous Service.Except as otherwise provided in the applicable Award Agreement or other agreement between\\nthe Participant and the Company, in the event that a Participant’s ...</td>\n",
              "      <td>0.954748</td>\n",
              "      <td>1.000000</td>\n",
              "    </tr>\n",
              "    <tr>\n",
              "      <th>29</th>\n",
              "      <td>What is a Performance Cash Award?</td>\n",
              "      <td>A Performance Cash Award is an award of cash that is granted based on the attainment of certain Performance Goals during a specified Performance Period. The Performance Goals are determined by the...</td>\n",
              "      <td>[(jj) “Own,” “Owned,” “Owner,” “Ownership” means a person or Entity will be deemed to “Own,” to have “Owned,” to be the “Owner” of, or to\\nhave acquired “Ownership” of securities if such person or...</td>\n",
              "      <td>0.964014</td>\n",
              "      <td>1.000000</td>\n",
              "    </tr>\n",
              "    <tr>\n",
              "      <th>30</th>\n",
              "      <td>What are the requirements for earning a Performance Cash Award?</td>\n",
              "      <td>The requirements for earning a Performance Cash Award are based on the Performance Criteria established by the Committee or the Board. These Performance Criteria can include various financial metr...</td>\n",
              "      <td>[(jj) “Own,” “Owned,” “Owner,” “Ownership” means a person or Entity will be deemed to “Own,” to have “Owned,” to be the “Owner” of, or to\\nhave acquired “Ownership” of securities if such person or...</td>\n",
              "      <td>0.951521</td>\n",
              "      <td>1.000000</td>\n",
              "    </tr>\n",
              "    <tr>\n",
              "      <th>31</th>\n",
              "      <td>How is the length of a Performance Period determined for a Performance Cash Award?</td>\n",
              "      <td>The length of a Performance Period for a Performance Cash Award is determined by the Committee or the Board.</td>\n",
              "      <td>[(jj) “Own,” “Owned,” “Owner,” “Ownership” means a person or Entity will be deemed to “Own,” to have “Owned,” to be the “Owner” of, or to\\nhave acquired “Ownership” of securities if such person or...</td>\n",
              "      <td>0.977090</td>\n",
              "      <td>0.000000</td>\n",
              "    </tr>\n",
              "    <tr>\n",
              "      <th>32</th>\n",
              "      <td>Who determines the Performance Goals and the measure of their attainment for a Performance Cash Award?</td>\n",
              "      <td>The Committee, or in certain cases the Board, determines the Performance Goals and the measure of their attainment for a Performance Cash Award.</td>\n",
              "      <td>[(jj) “Own,” “Owned,” “Owner,” “Ownership” means a person or Entity will be deemed to “Own,” to have “Owned,” to be the “Owner” of, or to\\nhave acquired “Ownership” of securities if such person or...</td>\n",
              "      <td>0.999999</td>\n",
              "      <td>1.000000</td>\n",
              "    </tr>\n",
              "    <tr>\n",
              "      <th>33</th>\n",
              "      <td>Can a participant defer the payment of a Performance Cash Award?</td>\n",
              "      <td>Yes, a participant can defer the payment of a Performance Cash Award. The Board, in its sole discretion, may determine that the delivery of cash, upon the exercise, vesting, or settlement of all o...</td>\n",
              "      <td>[(iii) Section 162(m) Compliance. Unless otherwise permitted in compliance with the requirements of Section 162(m) of the Code\\nwith respect to any Award intended to qualify as “performance-based ...</td>\n",
              "      <td>0.948432</td>\n",
              "      <td>0.666667</td>\n",
              "    </tr>\n",
              "    <tr>\n",
              "      <th>34</th>\n",
              "      <td>What forms of payment can be specified for Performance Cash Awards?</td>\n",
              "      <td>The forms of payment that can be specified for Performance Cash Awards include cash, other property, or Common Stock authorized under the Plan. Additionally, participants may have the option to el...</td>\n",
              "      <td>[Restricted Stock Unit Award may be paid in any form of legal consideration that may be acceptable to the Board in its sole discretion and\\npermissible under applicable law.\\n(ii) Vesting. At the ...</td>\n",
              "      <td>0.929358</td>\n",
              "      <td>1.000000</td>\n",
              "    </tr>\n",
              "    <tr>\n",
              "      <th>35</th>\n",
              "      <td>Can Common Stock be used in payment of Performance Cash Awards?</td>\n",
              "      <td>Yes, Common Stock can be used in payment of Performance Cash Awards, as stated in the context information.</td>\n",
              "      <td>[(iii) Section 162(m) Compliance. Unless otherwise permitted in compliance with the requirements of Section 162(m) of the Code\\nwith respect to any Award intended to qualify as “performance-based ...</td>\n",
              "      <td>0.908985</td>\n",
              "      <td>1.000000</td>\n",
              "    </tr>\n",
              "  </tbody>\n",
              "</table>\n",
              "</div>\n",
              "    <div class=\"colab-df-buttons\">\n",
              "\n",
              "  <div class=\"colab-df-container\">\n",
              "    <button class=\"colab-df-convert\" onclick=\"convertToInteractive('df-f4b575c2-394f-498e-bdc0-4e83f65b59df')\"\n",
              "            title=\"Convert this dataframe to an interactive table.\"\n",
              "            style=\"display:none;\">\n",
              "\n",
              "  <svg xmlns=\"http://www.w3.org/2000/svg\" height=\"24px\" viewBox=\"0 -960 960 960\">\n",
              "    <path d=\"M120-120v-720h720v720H120Zm60-500h600v-160H180v160Zm220 220h160v-160H400v160Zm0 220h160v-160H400v160ZM180-400h160v-160H180v160Zm440 0h160v-160H620v160ZM180-180h160v-160H180v160Zm440 0h160v-160H620v160Z\"/>\n",
              "  </svg>\n",
              "    </button>\n",
              "\n",
              "  <style>\n",
              "    .colab-df-container {\n",
              "      display:flex;\n",
              "      gap: 12px;\n",
              "    }\n",
              "\n",
              "    .colab-df-convert {\n",
              "      background-color: #E8F0FE;\n",
              "      border: none;\n",
              "      border-radius: 50%;\n",
              "      cursor: pointer;\n",
              "      display: none;\n",
              "      fill: #1967D2;\n",
              "      height: 32px;\n",
              "      padding: 0 0 0 0;\n",
              "      width: 32px;\n",
              "    }\n",
              "\n",
              "    .colab-df-convert:hover {\n",
              "      background-color: #E2EBFA;\n",
              "      box-shadow: 0px 1px 2px rgba(60, 64, 67, 0.3), 0px 1px 3px 1px rgba(60, 64, 67, 0.15);\n",
              "      fill: #174EA6;\n",
              "    }\n",
              "\n",
              "    .colab-df-buttons div {\n",
              "      margin-bottom: 4px;\n",
              "    }\n",
              "\n",
              "    [theme=dark] .colab-df-convert {\n",
              "      background-color: #3B4455;\n",
              "      fill: #D2E3FC;\n",
              "    }\n",
              "\n",
              "    [theme=dark] .colab-df-convert:hover {\n",
              "      background-color: #434B5C;\n",
              "      box-shadow: 0px 1px 3px 1px rgba(0, 0, 0, 0.15);\n",
              "      filter: drop-shadow(0px 1px 2px rgba(0, 0, 0, 0.3));\n",
              "      fill: #FFFFFF;\n",
              "    }\n",
              "  </style>\n",
              "\n",
              "    <script>\n",
              "      const buttonEl =\n",
              "        document.querySelector('#df-f4b575c2-394f-498e-bdc0-4e83f65b59df button.colab-df-convert');\n",
              "      buttonEl.style.display =\n",
              "        google.colab.kernel.accessAllowed ? 'block' : 'none';\n",
              "\n",
              "      async function convertToInteractive(key) {\n",
              "        const element = document.querySelector('#df-f4b575c2-394f-498e-bdc0-4e83f65b59df');\n",
              "        const dataTable =\n",
              "          await google.colab.kernel.invokeFunction('convertToInteractive',\n",
              "                                                    [key], {});\n",
              "        if (!dataTable) return;\n",
              "\n",
              "        const docLinkHtml = 'Like what you see? Visit the ' +\n",
              "          '<a target=\"_blank\" href=https://colab.research.google.com/notebooks/data_table.ipynb>data table notebook</a>'\n",
              "          + ' to learn more about interactive tables.';\n",
              "        element.innerHTML = '';\n",
              "        dataTable['output_type'] = 'display_data';\n",
              "        await google.colab.output.renderOutput(dataTable, element);\n",
              "        const docLink = document.createElement('div');\n",
              "        docLink.innerHTML = docLinkHtml;\n",
              "        element.appendChild(docLink);\n",
              "      }\n",
              "    </script>\n",
              "  </div>\n",
              "\n",
              "\n",
              "<div id=\"df-c1fb968f-b20c-421d-9094-bb69a9e41bf5\">\n",
              "  <button class=\"colab-df-quickchart\" onclick=\"quickchart('df-c1fb968f-b20c-421d-9094-bb69a9e41bf5')\"\n",
              "            title=\"Suggest charts.\"\n",
              "            style=\"display:none;\">\n",
              "\n",
              "<svg xmlns=\"http://www.w3.org/2000/svg\" height=\"24px\"viewBox=\"0 0 24 24\"\n",
              "     width=\"24px\">\n",
              "    <g>\n",
              "        <path d=\"M19 3H5c-1.1 0-2 .9-2 2v14c0 1.1.9 2 2 2h14c1.1 0 2-.9 2-2V5c0-1.1-.9-2-2-2zM9 17H7v-7h2v7zm4 0h-2V7h2v10zm4 0h-2v-4h2v4z\"/>\n",
              "    </g>\n",
              "</svg>\n",
              "  </button>\n",
              "\n",
              "<style>\n",
              "  .colab-df-quickchart {\n",
              "      --bg-color: #E8F0FE;\n",
              "      --fill-color: #1967D2;\n",
              "      --hover-bg-color: #E2EBFA;\n",
              "      --hover-fill-color: #174EA6;\n",
              "      --disabled-fill-color: #AAA;\n",
              "      --disabled-bg-color: #DDD;\n",
              "  }\n",
              "\n",
              "  [theme=dark] .colab-df-quickchart {\n",
              "      --bg-color: #3B4455;\n",
              "      --fill-color: #D2E3FC;\n",
              "      --hover-bg-color: #434B5C;\n",
              "      --hover-fill-color: #FFFFFF;\n",
              "      --disabled-bg-color: #3B4455;\n",
              "      --disabled-fill-color: #666;\n",
              "  }\n",
              "\n",
              "  .colab-df-quickchart {\n",
              "    background-color: var(--bg-color);\n",
              "    border: none;\n",
              "    border-radius: 50%;\n",
              "    cursor: pointer;\n",
              "    display: none;\n",
              "    fill: var(--fill-color);\n",
              "    height: 32px;\n",
              "    padding: 0;\n",
              "    width: 32px;\n",
              "  }\n",
              "\n",
              "  .colab-df-quickchart:hover {\n",
              "    background-color: var(--hover-bg-color);\n",
              "    box-shadow: 0 1px 2px rgba(60, 64, 67, 0.3), 0 1px 3px 1px rgba(60, 64, 67, 0.15);\n",
              "    fill: var(--button-hover-fill-color);\n",
              "  }\n",
              "\n",
              "  .colab-df-quickchart-complete:disabled,\n",
              "  .colab-df-quickchart-complete:disabled:hover {\n",
              "    background-color: var(--disabled-bg-color);\n",
              "    fill: var(--disabled-fill-color);\n",
              "    box-shadow: none;\n",
              "  }\n",
              "\n",
              "  .colab-df-spinner {\n",
              "    border: 2px solid var(--fill-color);\n",
              "    border-color: transparent;\n",
              "    border-bottom-color: var(--fill-color);\n",
              "    animation:\n",
              "      spin 1s steps(1) infinite;\n",
              "  }\n",
              "\n",
              "  @keyframes spin {\n",
              "    0% {\n",
              "      border-color: transparent;\n",
              "      border-bottom-color: var(--fill-color);\n",
              "      border-left-color: var(--fill-color);\n",
              "    }\n",
              "    20% {\n",
              "      border-color: transparent;\n",
              "      border-left-color: var(--fill-color);\n",
              "      border-top-color: var(--fill-color);\n",
              "    }\n",
              "    30% {\n",
              "      border-color: transparent;\n",
              "      border-left-color: var(--fill-color);\n",
              "      border-top-color: var(--fill-color);\n",
              "      border-right-color: var(--fill-color);\n",
              "    }\n",
              "    40% {\n",
              "      border-color: transparent;\n",
              "      border-right-color: var(--fill-color);\n",
              "      border-top-color: var(--fill-color);\n",
              "    }\n",
              "    60% {\n",
              "      border-color: transparent;\n",
              "      border-right-color: var(--fill-color);\n",
              "    }\n",
              "    80% {\n",
              "      border-color: transparent;\n",
              "      border-right-color: var(--fill-color);\n",
              "      border-bottom-color: var(--fill-color);\n",
              "    }\n",
              "    90% {\n",
              "      border-color: transparent;\n",
              "      border-bottom-color: var(--fill-color);\n",
              "    }\n",
              "  }\n",
              "</style>\n",
              "\n",
              "  <script>\n",
              "    async function quickchart(key) {\n",
              "      const quickchartButtonEl =\n",
              "        document.querySelector('#' + key + ' button');\n",
              "      quickchartButtonEl.disabled = true;  // To prevent multiple clicks.\n",
              "      quickchartButtonEl.classList.add('colab-df-spinner');\n",
              "      try {\n",
              "        const charts = await google.colab.kernel.invokeFunction(\n",
              "            'suggestCharts', [key], {});\n",
              "      } catch (error) {\n",
              "        console.error('Error during call to suggestCharts:', error);\n",
              "      }\n",
              "      quickchartButtonEl.classList.remove('colab-df-spinner');\n",
              "      quickchartButtonEl.classList.add('colab-df-quickchart-complete');\n",
              "    }\n",
              "    (() => {\n",
              "      let quickchartButtonEl =\n",
              "        document.querySelector('#df-c1fb968f-b20c-421d-9094-bb69a9e41bf5 button');\n",
              "      quickchartButtonEl.style.display =\n",
              "        google.colab.kernel.accessAllowed ? 'block' : 'none';\n",
              "    })();\n",
              "  </script>\n",
              "</div>\n",
              "    </div>\n",
              "  </div>\n"
            ]
          },
          "metadata": {},
          "execution_count": 44
        }
      ]
    },
    {
      "cell_type": "markdown",
      "source": [
        "### Eval with evaluation module\n"
      ],
      "metadata": {
        "id": "rvrd4bIqu0k6"
      }
    },
    {
      "cell_type": "code",
      "source": [
        "import time\n",
        "import asyncio\n",
        "import nest_asyncio\n",
        "nest_asyncio.apply()\n",
        "\n",
        "def evaluate_query_engine(evaluator, query_engine, questions):\n",
        "    async def run_query(query_engine, q):\n",
        "        try:\n",
        "            return await query_engine.aquery(q)\n",
        "        except:\n",
        "            return Response(response=\"Error, query failed.\")\n",
        "\n",
        "    total_correct = 0\n",
        "    all_results = []\n",
        "    for batch_size in range(0, len(questions), 5):\n",
        "        batch_qs = questions[batch_size:batch_size+5]\n",
        "\n",
        "        tasks = [run_query(query_engine, q) for q in batch_qs]\n",
        "        responses = asyncio.run(asyncio.gather(*tasks))\n",
        "        print(f\"finished batch {(batch_size // 5) + 1} out of {len(questions) // 5}\")\n",
        "\n",
        "        # eval for hallucination\n",
        "        if isinstance(evaluator, ResponseEvaluator):\n",
        "          for response in responses:\n",
        "              eval_result = 1 if \"YES\" in evaluator.evaluate(response) else 0\n",
        "              total_correct += eval_result\n",
        "              all_results.append(eval_result)\n",
        "        # eval for answer quality\n",
        "        elif isinstance(evaluator, QueryResponseEvaluator):\n",
        "          for question, response in zip(batch_qs, responses):\n",
        "              eval_result = 1 if \"YES\" in evaluator.evaluate(question, response) else 0\n",
        "              total_correct += eval_result\n",
        "              all_results.append(eval_result)\n",
        "\n",
        "        # helps avoid rate limits\n",
        "        time.sleep(1)\n",
        "\n",
        "    return total_correct, all_results"
      ],
      "metadata": {
        "id": "OmV5PGb4h352"
      },
      "execution_count": 45,
      "outputs": []
    },
    {
      "cell_type": "code",
      "source": [
        "# use gpt-4 to evaluate\n",
        "gpt4_service_context = ServiceContext.from_defaults(llm=OpenAI(temperature=0, llm=\"gpt-4\"))\n",
        "\n",
        "questions = []\n",
        "with open(\"eval_questions.txt\", \"r\") as f:\n",
        "    for line in f:\n",
        "        questions.append(line.strip())"
      ],
      "metadata": {
        "id": "pIT9ieZdvGsa"
      },
      "execution_count": 19,
      "outputs": []
    },
    {
      "cell_type": "code",
      "source": [
        "# eval for hallucination\n",
        "evaluator = ResponseEvaluator(service_context=gpt4_service_context)\n",
        "total_correct, all_results = evaluate_query_engine(evaluator, query_engine, questions)\n",
        "print(f\"Hallucination? Scored {total_correct} out of {len(questions)} questions correctly.\")"
      ],
      "metadata": {
        "colab": {
          "base_uri": "https://localhost:8080/"
        },
        "id": "1kYXfK35wpBs",
        "outputId": "4c7be540-be9c-4b99-e158-d1181a50628d"
      },
      "execution_count": 20,
      "outputs": [
        {
          "output_type": "stream",
          "name": "stdout",
          "text": [
            "finished batch 1 out of 8\n",
            "finished batch 2 out of 8\n",
            "finished batch 3 out of 8\n",
            "finished batch 4 out of 8\n",
            "finished batch 5 out of 8\n"
          ]
        },
        {
          "output_type": "stream",
          "name": "stderr",
          "text": [
            "WARNING:llama_index.llms.openai_utils:Retrying llama_index.llms.openai_utils.completion_with_retry.<locals>._completion_with_retry in 4.0 seconds as it raised RateLimitError: Rate limit reached for default-gpt-3.5-turbo in organization org-5ytHcLCFlcB1xR8qyZkYwLRd on tokens per min. Limit: 90000 / min. Current: 88134 / min. Contact us through our help center at help.openai.com if you continue to have issues..\n",
            "WARNING:llama_index.llms.openai_utils:Retrying llama_index.llms.openai_utils.acompletion_with_retry.<locals>._completion_with_retry in 4.0 seconds as it raised RateLimitError: Rate limit reached for default-gpt-3.5-turbo in organization org-5ytHcLCFlcB1xR8qyZkYwLRd on tokens per min. Limit: 90000 / min. Current: 89051 / min. Contact us through our help center at help.openai.com if you continue to have issues..\n",
            "WARNING:llama_index.llms.openai_utils:Retrying llama_index.llms.openai_utils.acompletion_with_retry.<locals>._completion_with_retry in 4.0 seconds as it raised RateLimitError: Rate limit reached for default-gpt-3.5-turbo in organization org-5ytHcLCFlcB1xR8qyZkYwLRd on tokens per min. Limit: 90000 / min. Current: 89037 / min. Contact us through our help center at help.openai.com if you continue to have issues..\n"
          ]
        },
        {
          "output_type": "stream",
          "name": "stdout",
          "text": [
            "finished batch 6 out of 8\n"
          ]
        },
        {
          "output_type": "stream",
          "name": "stderr",
          "text": [
            "WARNING:llama_index.llms.openai_utils:Retrying llama_index.llms.openai_utils.completion_with_retry.<locals>._completion_with_retry in 4.0 seconds as it raised RateLimitError: Rate limit reached for default-gpt-3.5-turbo in organization org-5ytHcLCFlcB1xR8qyZkYwLRd on tokens per min. Limit: 90000 / min. Current: 89137 / min. Contact us through our help center at help.openai.com if you continue to have issues..\n",
            "WARNING:llama_index.llms.openai_utils:Retrying llama_index.llms.openai_utils.acompletion_with_retry.<locals>._completion_with_retry in 4.0 seconds as it raised RateLimitError: Rate limit reached for default-gpt-3.5-turbo in organization org-5ytHcLCFlcB1xR8qyZkYwLRd on tokens per min. Limit: 90000 / min. Current: 88729 / min. Contact us through our help center at help.openai.com if you continue to have issues..\n",
            "WARNING:llama_index.llms.openai_utils:Retrying llama_index.llms.openai_utils.acompletion_with_retry.<locals>._completion_with_retry in 4.0 seconds as it raised RateLimitError: Rate limit reached for default-gpt-3.5-turbo in organization org-5ytHcLCFlcB1xR8qyZkYwLRd on tokens per min. Limit: 90000 / min. Current: 88711 / min. Contact us through our help center at help.openai.com if you continue to have issues..\n",
            "WARNING:llama_index.llms.openai_utils:Retrying llama_index.llms.openai_utils.acompletion_with_retry.<locals>._completion_with_retry in 4.0 seconds as it raised RateLimitError: Rate limit reached for default-gpt-3.5-turbo in organization org-5ytHcLCFlcB1xR8qyZkYwLRd on tokens per min. Limit: 90000 / min. Current: 88708 / min. Contact us through our help center at help.openai.com if you continue to have issues..\n",
            "WARNING:llama_index.llms.openai_utils:Retrying llama_index.llms.openai_utils.acompletion_with_retry.<locals>._completion_with_retry in 4.0 seconds as it raised RateLimitError: Rate limit reached for default-gpt-3.5-turbo in organization org-5ytHcLCFlcB1xR8qyZkYwLRd on tokens per min. Limit: 90000 / min. Current: 88704 / min. Contact us through our help center at help.openai.com if you continue to have issues..\n",
            "WARNING:llama_index.llms.openai_utils:Retrying llama_index.llms.openai_utils.acompletion_with_retry.<locals>._completion_with_retry in 4.0 seconds as it raised RateLimitError: Rate limit reached for default-gpt-3.5-turbo in organization org-5ytHcLCFlcB1xR8qyZkYwLRd on tokens per min. Limit: 90000 / min. Current: 89692 / min. Contact us through our help center at help.openai.com if you continue to have issues..\n"
          ]
        },
        {
          "output_type": "stream",
          "name": "stdout",
          "text": [
            "finished batch 7 out of 8\n"
          ]
        },
        {
          "output_type": "stream",
          "name": "stderr",
          "text": [
            "WARNING:llama_index.llms.openai_utils:Retrying llama_index.llms.openai_utils.completion_with_retry.<locals>._completion_with_retry in 4.0 seconds as it raised Timeout: Request timed out: HTTPSConnectionPool(host='api.openai.com', port=443): Read timed out. (read timeout=600).\n"
          ]
        },
        {
          "output_type": "stream",
          "name": "stdout",
          "text": [
            "finished batch 8 out of 8\n",
            "Hallucination? Scored 18 out of 40 questions correctly.\n"
          ]
        }
      ]
    },
    {
      "cell_type": "code",
      "source": [
        "# eval for answer quality\n",
        "evaluator = QueryResponseEvaluator(service_context=gpt4_service_context)\n",
        "total_correct, all_results = evaluate_query_engine(evaluator, query_engine, questions)\n",
        "print(f\"Response satisfies the query? Scored {total_correct} out of {len(questions)} questions correctly.\")"
      ],
      "metadata": {
        "colab": {
          "base_uri": "https://localhost:8080/"
        },
        "id": "fbCwCuo0wgSn",
        "outputId": "778a27f8-64dd-47af-9886-765588d89aae"
      },
      "execution_count": 21,
      "outputs": [
        {
          "output_type": "stream",
          "name": "stdout",
          "text": [
            "finished batch 1 out of 8\n",
            "finished batch 2 out of 8\n",
            "finished batch 3 out of 8\n",
            "finished batch 4 out of 8\n",
            "finished batch 5 out of 8\n",
            "finished batch 6 out of 8\n",
            "finished batch 7 out of 8\n",
            "finished batch 8 out of 8\n",
            "Response satisfies the query? Scored 23 out of 40 questions correctly.\n"
          ]
        }
      ]
    },
    {
      "cell_type": "markdown",
      "metadata": {
        "id": "Z67IzwPGmpQ7"
      },
      "source": [
        "## GPT4 to collect training data"
      ]
    },
    {
      "cell_type": "code",
      "execution_count": 22,
      "metadata": {
        "id": "niIDGQPDms9t"
      },
      "outputs": [],
      "source": [
        "from llama_index import ServiceContext\n",
        "from llama_index.llms import OpenAI\n",
        "from llama_index.callbacks import OpenAIFineTuningHandler\n",
        "from llama_index.callbacks import CallbackManager\n",
        "\n",
        "finetuning_handler = OpenAIFineTuningHandler()\n",
        "callback_manager = CallbackManager([finetuning_handler])\n",
        "\n",
        "gpt_4_context = ServiceContext.from_defaults(\n",
        "    llm=OpenAI(model=\"gpt-4\", temperature=0.3),\n",
        "    context_window=2048,  # limit the context window artifically to test refine process\n",
        "    callback_manager=callback_manager,\n",
        ")"
      ]
    },
    {
      "cell_type": "code",
      "execution_count": 23,
      "metadata": {
        "id": "-za-SJm2m4sr"
      },
      "outputs": [],
      "source": [
        "questions = []\n",
        "with open(\"train_questions.txt\", \"r\") as f:\n",
        "    for line in f:\n",
        "        questions.append(line.strip())"
      ]
    },
    {
      "cell_type": "code",
      "execution_count": 24,
      "metadata": {
        "id": "9AyobC0jm5C1"
      },
      "outputs": [],
      "source": [
        "from llama_index import VectorStoreIndex\n",
        "\n",
        "index = VectorStoreIndex.from_documents(documents, service_context=gpt_4_context)\n",
        "query_engine = index.as_query_engine(similarity_top_k=2)\n",
        "\n",
        "for question in questions:\n",
        "    response = query_engine.query(question)"
      ]
    },
    {
      "cell_type": "code",
      "source": [
        "finetuning_handler.save_finetuning_events(\"finetuning_events.jsonl\")"
      ],
      "metadata": {
        "colab": {
          "base_uri": "https://localhost:8080/"
        },
        "id": "a-h7QOY2ZeYt",
        "outputId": "2333ea01-4146-44c7-f384-b64b48f8f81d"
      },
      "execution_count": 25,
      "outputs": [
        {
          "output_type": "stream",
          "name": "stdout",
          "text": [
            "Wrote 65 examples to finetuning_events.jsonl\n"
          ]
        }
      ]
    },
    {
      "cell_type": "markdown",
      "metadata": {
        "id": "squYq9isnHJS"
      },
      "source": [
        "## Create OpenAIFinetuneEngine"
      ]
    },
    {
      "cell_type": "code",
      "execution_count": 26,
      "metadata": {
        "id": "LgCLg-W7xyBT"
      },
      "outputs": [],
      "source": [
        "from llama_index.finetuning import OpenAIFinetuneEngine\n",
        "\n",
        "finetune_engine = OpenAIFinetuneEngine(\n",
        "    \"gpt-3.5-turbo\",\n",
        "    \"finetuning_events.jsonl\"\n",
        ")"
      ]
    },
    {
      "cell_type": "code",
      "execution_count": 27,
      "metadata": {
        "colab": {
          "base_uri": "https://localhost:8080/"
        },
        "id": "oGbfnc4Ox6jg",
        "outputId": "72077413-4794-407f-cb07-07ad289b6277"
      },
      "outputs": [
        {
          "output_type": "stream",
          "name": "stdout",
          "text": [
            "Num examples: 65\n",
            "First example:\n",
            "{'role': 'system', 'content': \"You are an expert Q&A system that is trusted around the world.\\nAlways answer the query using the provided context information, and not prior knowledge.\\nSome rules to follow:\\n1. Never directly reference the given context in your answer.\\n2. Avoid statements like 'Based on the context, ...' or 'The context information ...' or anything along those lines.\"}\n",
            "{'role': 'user', 'content': \"Context information is below.\\n---------------------\\npage_label: 19\\nfile_name: nvidia-sec-10k-2022.pdf\\n\\nTable of Contents\\n•new product introductions and transitions resulting in less demand for existing products;\\n•new or unexpected end use cases;\\n•increase in demand for competitive products, including competitive actions;\\n•business decisions made by third parties;\\n•the demand for accelerated or AI-related cloud services, including our own software and AI cloud service offerings;\\n•the demand for cryptocurrency mining; or\\n•government actions or changes in governmental policies, such as increased restrictions on gaming usage.\\nOur supply, which includes inventory on hand, purchase obligations and prepaid supply agreements, has grown significantly due to current\\nsupply chain conditions, complexity of our products, and recent reductions in demand. At the end of fiscal year 2023, purchase obligations and\\nprepaid supply agreements represented more than half of our total supply. We may incur inventory provisions if our inventory or supply\\ncommitments are misaligned with demand for our products.\\nOur demand predictions may not be correct, as we have experienced from time to time. Product transitions are complex and frequently\\nnegatively impact our revenue as we often ship both new and legacy architecture products simultaneously and we and our channel partners\\nprepare to ship and support new products. Our architecture transitions of Data Center, Professional Visualization, and Gaming products may\\nimpair our ability to predict demand and impact our supply mix. Qualification time for new products, customers anticipating product transitions\\nand channel partners reducing channel inventory of legacy architectures ahead of new product introductions can create reductions or volatility in\\nour revenue. We have experienced and may in the future experience reduced demand for current generation architectures when customers\\nanticipate transitions, and we may be unable to sell multiple product architectures at the same time for current and future architecture transitions.\\nWhile we have managed prior product transitions and have previously sold multiple product architectures at the same time, these transitions are\\ndifficult and prior trends may not continue. If we are unable to execute our architectural transitions as planned for any reason, our financial\\nresults may be negatively impacted.\\nWe sell most of our products through channel partners, who sell to distributors, retailers, and/or end customers. As a result, the decisions made\\nby our channel partners, distributors, retailers, and in response to changing market conditions and changes in end user demand for our products\\nhave impacted and could in the future continue to impact our ability to properly forecast demand, particularly as they are based on estimates\\nprovided by various downstream parties.\\nIf we underestimate our customers' future demand for our products, our foundry partners may not have adequate lead-time or capacity to\\nincrease production and we may not be able to obtain sufficient inventory to fill orders on a timely basis. Even if we are able to increase\\nproduction levels to meet customer demand, we may not be able to do so in a cost-effective or timely manner, or our contract manufacturers\\nmay experience supply constraints. If we fail to fulfill our customers’ orders on a timely basis, or at all, our customer relationships could be\\ndamaged, we could lose revenue and market share and our reputation could be harmed.\\nIf we overestimate our customers’ future demand for our products, or if customers cancel or defer orders or choose to purchase from our\\ncompetitors, we may not be able to reduce our inventory or other contractual purchase commitments. In the past, we have experienced a\\nreduction in average selling prices, including due to channel pricing programs that we have implemented and may continue to implement, as a\\nresult of our overestimation of future demand, and we may need to continue these reductions. We have had to increase prices for certain of our\\nproducts as a result of our suppliers’ increase in prices, and we may need to continue to do so for other products in the future. We have also\\nwritten-down our inventory, incurred cancellation penalties, and recorded impairments. These impacts were amplified by our placement of non-\\ncancellable and non-returnable purchasing terms, well in advance of our historical lead times and could be exacerbated if we need to make\\nchanges to the design of future products. The risk of these impacts has increased as our purchase obligations and prepaids have grown and\\nbecome a greater portion of our total supply while our\\n19\\n\\npage_label: 16\\nfile_name: nvidia-sec-10k-2022.pdf\\n\\nTable of Contents\\n•Competition in our current and target markets could cause us to lose market share and revenue.\\nRisks Related to Demand, Supply and Manufacturing\\n•Failure to estimate customer demand properly has led and could lead to mismatches between supply and demand.\\n•Dependency on third-party suppliers and their technology reduces our control over product quantity and quality, manufacturing yields,\\ndevelopment, enhancement, and product delivery schedules and could harm our business.\\n•Defects in our products have caused and could cause us to incur significant expenses to remediate and can damage our business.\\nRisks Related to Our Global Operating Business\\n•Adverse economic conditions may harm our business.\\n•International operations are a significant part of our business, and economic, political, business, and other changes in the regions in\\nwhich we operate may expose us to risks that could harm our business.\\n•Product, system security, and data breaches and cyber-attacks could disrupt our operations and adversely affect our financial condition,\\nstock price and reputation.\\n•Business disruptions could harm our operations and financial results.\\n•Climate change may have a long-term impact on our business.\\n•We may not be able to realize the potential benefits of business investments or acquisitions, nor successfully integrate acquisition\\ntargets.\\n•A significant amount of our revenue stems from a limited number of customers and could be adversely affected if we lose or are\\nprevented from selling to any of these customers.\\n•We may be unable to attract, retain and motivate our executives and key employees.\\n•Modification or interruption of our business processes and information systems may disrupt our business, processes and internal\\ncontrols.\\n•The COVID-19 pandemic has affected and could continue to have a material adverse impact on our financial condition and results of\\noperations.\\n•Our operating results have in the past fluctuated and may in the future fluctuate, and if our operating results are below the expectations\\nof securities analysts or investors, our stock price could decline.\\nRisks Related to Regulatory, Legal, Our Stock and Other Matters\\n•We are subject to complex laws, rules and regulations, and political and other actions, which may adversely impact our business.\\n•Increased scrutiny from shareholders, regulators, and others regarding our environmental, social and governance responsibilities could\\nresult in financial, reputational and operational harm.\\n•Issues relating to the responsible use of our technologies, including AI, may result in reputational and financial harm and liability.\\n•Adequately protecting our IP rights could be costly, and our ability to compete could be harmed if we are unsuccessful or if we are\\nprohibited from making or selling our products.\\n•We are subject to stringent and changing data privacy and security laws, rules, regulations, and other obligations. Privacy or security\\nconcerns relating to our products and services could damage our reputation, deter customers, or result in legal or regulatory\\nproceedings and liability.\\n16\\n---------------------\\nGiven the context information and not prior knowledge, answer the query.\\nQuery: What factors could result in less demand for existing products?\\nAnswer: \"}\n",
            "{'role': 'assistant', 'content': 'Several factors could result in less demand for existing products. These include new product introductions and transitions, new or unexpected end use cases, an increase in demand for competitive products, decisions made by third parties, the demand for accelerated or AI-related cloud services, the demand for cryptocurrency mining, and changes in governmental policies, such as increased restrictions on gaming usage. Additionally, customers anticipating product transitions and reducing inventory of legacy architectures ahead of new product introductions can also create reductions in demand.'}\n",
            "No errors found\n",
            "Num examples missing system message: 25\n",
            "Num examples missing user message: 0\n",
            "\n",
            "#### Distribution of num_messages_per_example:\n",
            "min / max: 2, 3\n",
            "mean / median: 2.6153846153846154, 3.0\n",
            "p5 / p95: 2.0, 3.0\n",
            "\n",
            "#### Distribution of num_total_tokens_per_example:\n",
            "min / max: 348, 1836\n",
            "mean / median: 1233.2, 1351.0\n",
            "p5 / p95: 546.4, 1766.0\n",
            "\n",
            "#### Distribution of num_assistant_tokens_per_example:\n",
            "min / max: 19, 250\n",
            "mean / median: 96.75384615384615, 98.0\n",
            "p5 / p95: 24.4, 176.6\n",
            "\n",
            "0 examples may be over the 4096 token limit, they will be truncated during fine-tuning\n",
            "Dataset has ~80158 tokens that will be charged for during training\n",
            "By default, you'll train for 3 epochs on this dataset\n",
            "By default, you'll be charged for ~240474 tokens\n",
            "As of Augest 22, 2023, fine-tuning gpt-3.5-turbo is $0.008 / 1K Tokens.\n",
            "This means your total cost for training will be $0.6412640000000001 per epoch.\n",
            "Waiting for file to be ready...\n"
          ]
        }
      ],
      "source": [
        "finetune_engine.finetune()"
      ]
    },
    {
      "cell_type": "code",
      "execution_count": 28,
      "metadata": {
        "colab": {
          "base_uri": "https://localhost:8080/"
        },
        "id": "ADLFpwUo3fzm",
        "outputId": "5328c5e7-32e8-425a-dbc6-d9976cad6bc7"
      },
      "outputs": [
        {
          "output_type": "execute_result",
          "data": {
            "text/plain": [
              "<FineTuningJob fine_tuning.job id=ftjob-nLjdTv91ozIvnaJFMpVp6lDa at 0x7877a59998f0> JSON: {\n",
              "  \"object\": \"fine_tuning.job\",\n",
              "  \"id\": \"ftjob-nLjdTv91ozIvnaJFMpVp6lDa\",\n",
              "  \"model\": \"gpt-3.5-turbo-0613\",\n",
              "  \"created_at\": 1693793535,\n",
              "  \"finished_at\": null,\n",
              "  \"fine_tuned_model\": null,\n",
              "  \"organization_id\": \"org-5ytHcLCFlcB1xR8qyZkYwLRd\",\n",
              "  \"result_files\": [],\n",
              "  \"status\": \"running\",\n",
              "  \"validation_file\": null,\n",
              "  \"training_file\": \"file-J0qBEx0ka42fL3dwIzWCgc2r\",\n",
              "  \"hyperparameters\": {\n",
              "    \"n_epochs\": 3\n",
              "  },\n",
              "  \"trained_tokens\": null\n",
              "}"
            ]
          },
          "metadata": {},
          "execution_count": 28
        }
      ],
      "source": [
        "finetune_engine.get_current_job()"
      ]
    },
    {
      "cell_type": "code",
      "execution_count": 29,
      "metadata": {
        "id": "D8Hj7TWWyGGJ"
      },
      "outputs": [],
      "source": [
        "ft_llm = finetune_engine.get_finetuned_model(temperature=0.3)"
      ]
    },
    {
      "cell_type": "markdown",
      "metadata": {
        "id": "zac_DedKnlRX"
      },
      "source": [
        "## Evaluation for fine-tuned model"
      ]
    },
    {
      "cell_type": "markdown",
      "source": [
        "### Eval with ragas"
      ],
      "metadata": {
        "id": "MkyIWaSC4J9v"
      }
    },
    {
      "cell_type": "code",
      "execution_count": 46,
      "metadata": {
        "id": "eb5vKgaAnpFg"
      },
      "outputs": [],
      "source": [
        "from llama_index import ServiceContext\n",
        "from llama_index.llms import OpenAI\n",
        "from llama_index.callbacks import OpenAIFineTuningHandler\n",
        "from llama_index.callbacks import CallbackManager\n",
        "\n",
        "ft_context = ServiceContext.from_defaults(\n",
        "    llm=ft_llm\n",
        ")"
      ]
    },
    {
      "cell_type": "code",
      "execution_count": 47,
      "metadata": {
        "id": "S3MSIuNanwd7"
      },
      "outputs": [],
      "source": [
        "questions = []\n",
        "with open(\"eval_questions.txt\", \"r\") as f:\n",
        "    for line in f:\n",
        "        questions.append(line.strip())"
      ]
    },
    {
      "cell_type": "code",
      "execution_count": 48,
      "metadata": {
        "id": "MscE7I6-nxE2"
      },
      "outputs": [],
      "source": [
        "from llama_index import VectorStoreIndex\n",
        "\n",
        "index = VectorStoreIndex.from_documents(documents, service_context=ft_context)\n",
        "\n",
        "query_engine = index.as_query_engine(similarity_top_k=2)"
      ]
    },
    {
      "cell_type": "code",
      "execution_count": 49,
      "metadata": {
        "id": "4QMDDxkKn2FQ"
      },
      "outputs": [],
      "source": [
        "contexts = []\n",
        "answers = []\n",
        "\n",
        "for question in questions:\n",
        "    response = query_engine.query(question)\n",
        "    contexts.append([x.node.get_content() for x in response.source_nodes])\n",
        "    answers.append(str(response))"
      ]
    },
    {
      "cell_type": "code",
      "execution_count": 50,
      "metadata": {
        "colab": {
          "base_uri": "https://localhost:8080/"
        },
        "id": "FTyQns6Cn2hV",
        "outputId": "f887249a-d8f2-45c2-b8c7-06607713db87"
      },
      "outputs": [
        {
          "output_type": "stream",
          "name": "stdout",
          "text": [
            "evaluating with [answer_relevancy]\n"
          ]
        },
        {
          "output_type": "stream",
          "name": "stderr",
          "text": [
            "100%|██████████| 3/3 [00:39<00:00, 13.25s/it]\n"
          ]
        },
        {
          "output_type": "stream",
          "name": "stdout",
          "text": [
            "evaluating with [faithfulness]\n"
          ]
        },
        {
          "output_type": "stream",
          "name": "stderr",
          "text": [
            "100%|██████████| 3/3 [03:56<00:00, 78.95s/it]\n"
          ]
        },
        {
          "output_type": "stream",
          "name": "stdout",
          "text": [
            "{'ragas_score': 0.9207, 'answer_relevancy': 0.9596, 'faithfulness': 0.8847}\n"
          ]
        }
      ],
      "source": [
        "from datasets import Dataset\n",
        "from ragas import evaluate\n",
        "from ragas.metrics import answer_relevancy, faithfulness\n",
        "\n",
        "ds = Dataset.from_dict(\n",
        "    {\n",
        "        \"question\": questions,\n",
        "        \"answer\": answers,\n",
        "        \"contexts\": contexts,\n",
        "    }\n",
        ")\n",
        "\n",
        "result = evaluate(ds, [answer_relevancy, faithfulness])\n",
        "print(result)"
      ]
    },
    {
      "cell_type": "code",
      "source": [
        "import pandas as pd\n",
        "\n",
        "pd.set_option('display.max_colwidth', 200)\n",
        "result.to_pandas()"
      ],
      "metadata": {
        "id": "DQ5ydBJJMu3i",
        "outputId": "e5c8dad6-b1d8-483b-a3ac-c667ac0106ad",
        "colab": {
          "base_uri": "https://localhost:8080/",
          "height": 1000
        }
      },
      "execution_count": 51,
      "outputs": [
        {
          "output_type": "execute_result",
          "data": {
            "text/plain": [
              "                                                                                                                                                                                                   question  \\\n",
              "0                                                                                                                                           How does the company recognize the benefit from a tax position?   \n",
              "1                                                                                                       What is the company's policy regarding interest and penalties related to unrecognized tax benefits?   \n",
              "2                                                                                                                                                               How is basic net income per share computed?   \n",
              "3                                                                                                                                                             How is diluted net income per share computed?   \n",
              "4                                                                                                                                 How does the company classify cash equivalents and marketable securities?   \n",
              "5                                                                             What is the classification of the company's investments based on their nature and availability for use in current operations?   \n",
              "6                                                                                                                                           How does the company report available-for-sale debt securities?   \n",
              "7                                                                                                                          How are realized gains and losses on the sale of marketable securities recorded?   \n",
              "8                                                                                                                   What is the periodic impairment review process for available-for-sale debt investments?   \n",
              "9                                                                                                                                   How does the company determine the fair value of marketable securities?   \n",
              "10                                                                                                                                                  How are derivative instruments recognized and measured?   \n",
              "11                                                                                                                What is the accounting treatment for changes in the fair value of derivative instruments?   \n",
              "12                                                                                                             What financial instruments potentially subject the company to concentrations of credit risk?   \n",
              "13                                                                                                                               What is the company's investment policy regarding fixed income securities?   \n",
              "14  What is the requirement for repatriating cash proceeds to Thailand for Thai residents who realize US$1,000,000 or more in a single transaction from the sale of shares of Common Stock or the paymen...   \n",
              "15                                                                         What is the maximum amount of foreign currency that Taiwanese residents can acquire and remit into Taiwan without justification?   \n",
              "16                                                                                                           Is the offer of participation in the Plan a public offer of securities by a Taiwanese company?   \n",
              "17                                                                                                                                        Is the offer of the Award subject to registration in Switzerland?   \n",
              "18                                                                             Are there any specific reporting requirements for Thai residents who repatriate amounts of US$1,000,000 or more to Thailand?   \n",
              "19                                                                                                        What forms of legal consideration are acceptable for the payment of Restricted Stock Unit Awards?   \n",
              "20                                                                                                          Can the Board impose restrictions or conditions on the vesting of Restricted Stock Unit Awards?   \n",
              "21                                                                                             What happens to a Restricted Stock Unit Award if a participant's Continuous Service terminates due to death?   \n",
              "22                                                                                                                                                        How can a Restricted Stock Unit Award be settled?   \n",
              "23                                                           Can the Board impose additional restrictions or conditions on the delivery of shares of Common Stock subject to a Restricted Stock Unit Award?   \n",
              "24                                                                            What happens to the unvested portion of a Restricted Stock Unit Award upon a participant's termination of Continuous Service?   \n",
              "25                                                                                                                                                                       What is a Performance Stock Award?   \n",
              "26                                                                                                                                         What are the requirements for earning a Performance Stock Award?   \n",
              "27                                                                                                  Who determines the Performance Goals and the measure of their attainment for a Performance Stock Award?   \n",
              "28                                                                                                 What happens to a Performance Stock Award if a participant's Continuous Service terminates due to death?   \n",
              "29                                                                                                                                                                        What is a Performance Cash Award?   \n",
              "30                                                                                                                                          What are the requirements for earning a Performance Cash Award?   \n",
              "31                                                                                                                       How is the length of a Performance Period determined for a Performance Cash Award?   \n",
              "32                                                                                                   Who determines the Performance Goals and the measure of their attainment for a Performance Cash Award?   \n",
              "33                                                                                                                                         Can a participant defer the payment of a Performance Cash Award?   \n",
              "34                                                                                                                                      What forms of payment can be specified for Performance Cash Awards?   \n",
              "35                                                                                                                                          Can Common Stock be used in payment of Performance Cash Awards?   \n",
              "\n",
              "                                                                                                                                                                                                     answer  \\\n",
              "0   The company recognizes the benefit from a tax position by classifying it as a current liability or amount refundable if they anticipate payment or receipt of cash for income taxes within one year....   \n",
              "1                                                                      The company's policy is to include interest and penalties related to unrecognized tax benefits as a component of income tax expense.   \n",
              "2                                                                                                   Basic net income per share is computed by dividing the net income by the basic weighted average shares.   \n",
              "3   Diluted net income per share is computed using the weighted average number of common and potentially dilutive shares outstanding during the period, using the treasury stock method. Under the treas...   \n",
              "4   The company classifies cash equivalents as highly liquid investments that are readily convertible into cash and have an original maturity of three months or less at the time of purchase. Marketabl...   \n",
              "5                                                            The company classifies its investments as current based on the nature of the investments and their availability for use in current operations.   \n",
              "6   The company reports available-for-sale debt securities at fair value. The related unrealized gains and losses are included in accumulated other comprehensive income or loss, which is a component o...   \n",
              "7   Realized gains and losses on the sale of marketable securities are determined using the specific-identification method and recorded in the other income (expense), net, section of the company's Con...   \n",
              "8                                                                               The context does not provide information on the periodic impairment review process for available-for-sale debt investments.   \n",
              "9   The company determines the fair value of marketable securities based on quoted market prices. Marketable securities are reported at fair value, with the related unrealized gains or losses included...   \n",
              "10  Derivative instruments are recognized as either assets or liabilities and are measured at fair value. The accounting for changes in the fair value of a derivative depends on the intended use of th...   \n",
              "11  The accounting treatment for changes in the fair value of derivative instruments depends on the intended use of the derivative and the resulting designation. For derivative instruments designated ...   \n",
              "12                   The financial instruments that potentially subject the company to concentrations of credit risk consist primarily of cash equivalents, marketable securities, and accounts receivable.   \n",
              "13                                                                                                           The company's investment policy requires the purchase of highly-rated fixed income securities.   \n",
              "14  Thai residents who realize US$1,000,000 or more in a single transaction from the sale of shares of Common Stock or the payment of dividends are required to repatriate the cash proceeds to Thailand...   \n",
              "15                                                                                Taiwanese residents can acquire and remit foreign currency into Taiwan up to US$5,000,000 per year without justification.   \n",
              "16                                                                                                   No, the offer of participation in the Plan is not a public offer of securities by a Taiwanese company.   \n",
              "17                                                                                                                                No, the offer of the Award is not subject to registration in Switzerland.   \n",
              "18  Yes, Thai residents who repatriate amounts of US$1,000,000 or more to Thailand are required to immediately repatriate the cash proceeds to Thailand following the receipt of such proceeds. They mus...   \n",
              "19  The context does not specify the exact forms of legal consideration that are acceptable for the payment of Restricted Stock Unit Awards. It states that the Board has the discretion to determine th...   \n",
              "20  Yes, the Board can impose restrictions or conditions on the vesting of Restricted Stock Unit Awards. The Board has the discretion to determine such restrictions or conditions at the time of the gr...   \n",
              "21                       If a participant's Continuous Service terminates due to their death, the Restricted Stock Unit Award will become fully vested as of the date of termination of Continuous Service.   \n",
              "22  A Restricted Stock Unit Award can be settled in various ways, as determined by the Board and stated in the Restricted Stock Unit Award Agreement. It can be settled by the delivery of shares of Com...   \n",
              "23  Yes, the Board can impose additional restrictions or conditions that delay the delivery of the shares of Common Stock subject to a Restricted Stock Unit Award to a time after the vesting of such R...   \n",
              "24  Upon a participant's termination of Continuous Service, the unvested portion of a Restricted Stock Unit Award will be forfeited, unless otherwise provided in the applicable Restricted Stock Unit A...   \n",
              "25  A Performance Stock Award is a type of Stock Award that is contingent upon the achievement of certain Performance Goals during a specified Performance Period. It may also require the completion of...   \n",
              "26  The requirements for earning a Performance Stock Award are contingent upon the attainment of certain Performance Goals during a specified Performance Period. The length of the Performance Period, ...   \n",
              "27  The Committee is responsible for establishing the Performance Goals and the formula for calculating the amount payable under a Performance Stock Award. These goals are determined no later than the...   \n",
              "28  If a participant's Continuous Service terminates due to death, the Performance Stock Award may be exercised by the participant's estate, by a person who acquired the right to exercise the Award by...   \n",
              "29  A Performance Cash Award is a cash award that is payable contingent upon the attainment of certain Performance Goals during a specified Performance Period. It may also require the completion of a ...   \n",
              "30                                                                                              The context does not provide specific information on the requirements for earning a Performance Cash Award.   \n",
              "31                                                                           The context does not provide information on how the length of a Performance Period is determined for a Performance Cash Award.   \n",
              "32                                                            The Committee, or in some cases the Board, determines the Performance Goals and the measure of their attainment for a Performance Cash Award.   \n",
              "33  Yes, the Board, in its sole discretion, may determine that the delivery of Common Stock or the payment of cash, upon the exercise, vesting or settlement of all or a portion of any Award may be def...   \n",
              "34                                                                             The context does not provide specific information on the forms of payment that can be specified for Performance Cash Awards.   \n",
              "35  Yes, the context states that to the extent permitted by applicable law and the applicable Award Agreement, the Board or the Committee, as applicable, may determine that Common Stock authorized und...   \n",
              "\n",
              "                                                                                                                                                                                                   contexts  \\\n",
              "0   [Table of Contents\\nprice basis by maximizing the use of observable inputs to determine the standalone selling price for each performance obligation); and (5)\\nrecognition of revenue when, or as, ...   \n",
              "1   [Table of Contents\\nNVIDIA CORPORATION AND SUBSIDIARIES\\nNOTES TO THE CONSOLIDATED FINANCIAL STATEMENTS\\n(Continued)\\nbe subject to limitations due to ownership changes and other limitations provi...   \n",
              "2   [Table of Contents\\nNVIDIA CORPORATION AND SUBSIDIARIES\\nNOTES TO THE CONSOLIDATED FINANCIAL STATEMENTS\\n(Continued)\\nNote 5 - Net Income Per Share\\nThe following is a reconciliation of the denomi...   \n",
              "3   [Table of Contents\\nNVIDIA CORPORATION AND SUBSIDIARIES\\nNOTES TO THE CONSOLIDATED FINANCIAL STATEMENTS\\n(Continued)\\nNote 5 - Net Income Per Share\\nThe following is a reconciliation of the denomi...   \n",
              "4   [Table of Contents\\nNVIDIA CORPORATION AND SUBSIDIARIES\\nNOTES TO THE CONSOLIDATED FINANCIAL STATEMENTS\\n(Continued)\\nWe recognize the benefit from a tax position only if it is more-likely-than-no...   \n",
              "5   [Table of Contents\\nNVIDIA CORPORATION AND SUBSIDIARIES\\nNOTES TO THE CONSOLIDATED FINANCIAL STATEMENTS\\n(Continued)\\nidentified for specific customers and an amount based on overall estimated exp...   \n",
              "6   [Table of Contents\\nNVIDIA CORPORATION AND SUBSIDIARIES\\nNOTES TO THE CONSOLIDATED FINANCIAL STATEMENTS\\n(Continued)\\nWe recognize the benefit from a tax position only if it is more-likely-than-no...   \n",
              "7   [Table of Contents\\nNVIDIA CORPORATION AND SUBSIDIARIES\\nNOTES TO THE CONSOLIDATED FINANCIAL STATEMENTS\\n(Continued)\\nThe following tables provide the breakdown of unrealized losses as of January ...   \n",
              "8   [Table of Contents\\nNVIDIA CORPORATION AND SUBSIDIARIES\\nNOTES TO THE CONSOLIDATED FINANCIAL STATEMENTS\\n(Continued)\\nidentified for specific customers and an amount based on overall estimated exp...   \n",
              "9   [Table of Contents\\nNVIDIA CORPORATION AND SUBSIDIARIES\\nNOTES TO THE CONSOLIDATED FINANCIAL STATEMENTS\\n(Continued)\\nWe recognize the benefit from a tax position only if it is more-likely-than-no...   \n",
              "10  [Table of Contents\\nNVIDIA CORPORATION AND SUBSIDIARIES\\nNOTES TO THE CONSOLIDATED FINANCIAL STATEMENTS\\n(Continued)\\nWe recognize the benefit from a tax position only if it is more-likely-than-no...   \n",
              "11  [Table of Contents\\nNVIDIA CORPORATION AND SUBSIDIARIES\\nNOTES TO THE CONSOLIDATED FINANCIAL STATEMENTS\\n(Continued)\\nWe recognize the benefit from a tax position only if it is more-likely-than-no...   \n",
              "12  [Table of Contents\\nNVIDIA CORPORATION AND SUBSIDIARIES\\nNOTES TO THE CONSOLIDATED FINANCIAL STATEMENTS\\n(Continued)\\nWe recognize the benefit from a tax position only if it is more-likely-than-no...   \n",
              "13  [Table of Contents\\nNVIDIA CORPORATION AND SUBSIDIARIES\\nNOTES TO THE CONSOLIDATED FINANCIAL STATEMENTS\\n(Continued)\\nWe recognize the benefit from a tax position only if it is more-likely-than-no...   \n",
              "14  [to satisfy Tax-Related Items, regardless of whether the Company and/or the Service Recipient have an obligation to\\nwithhold such Tax-Related Items.\\nSWITZERLAND\\nNotifications\\nSecurities Law In...   \n",
              "15  [exchange control laws, which may be amended from time to time. You must obtain a foreign inward remittance certificate\\n(“FIRC ”) from the bank where you deposit the foreign currency and must mai...   \n",
              "16  [to satisfy Tax-Related Items, regardless of whether the Company and/or the Service Recipient have an obligation to\\nwithhold such Tax-Related Items.\\nSWITZERLAND\\nNotifications\\nSecurities Law In...   \n",
              "17  [to satisfy Tax-Related Items, regardless of whether the Company and/or the Service Recipient have an obligation to\\nwithhold such Tax-Related Items.\\nSWITZERLAND\\nNotifications\\nSecurities Law In...   \n",
              "18  [JAPAN\\nNotifications\\nForeign Asset/Acc ount Reporting Information . Japanese residen ts are required to report details of any assets held\\noutside Japan (e.g., shares of Comm on Stock acquired u...   \n",
              "19  [Restricted Stock Unit Award may be paid in any form of legal consideration that may be acceptable to the Board in its sole discretion and\\npermissible under applicable law.\\n(ii) Vesting. At the ...   \n",
              "20  [Restricted Stock Unit Award may be paid in any form of legal consideration that may be acceptable to the Board in its sole discretion and\\npermissible under applicable law.\\n(ii) Vesting. At the ...   \n",
              "21  [Restricted Stock Unit Award may be paid in any form of legal consideration that may be acceptable to the Board in its sole discretion and\\npermissible under applicable law.\\n(ii) Vesting. At the ...   \n",
              "22  [Restricted Stock Unit Award may be paid in any form of legal consideration that may be acceptable to the Board in its sole discretion and\\npermissible under applicable law.\\n(ii) Vesting. At the ...   \n",
              "23  [Restricted Stock Unit Award may be paid in any form of legal consideration that may be acceptable to the Board in its sole discretion and\\npermissible under applicable law.\\n(ii) Vesting. At the ...   \n",
              "24  [Restricted Stock Unit Award may be paid in any form of legal consideration that may be acceptable to the Board in its sole discretion and\\npermissible under applicable law.\\n(ii) Vesting. At the ...   \n",
              "25  [Restricted Stock Unit Award may be paid in any form of legal consideration that may be acceptable to the Board in its sole discretion and\\npermissible under applicable law.\\n(ii) Vesting. At the ...   \n",
              "26  [(iii) Section 162(m) Compliance. Unless otherwise permitted in compliance with the requirements of Section 162(m) of the Code\\nwith respect to any Award intended to qualify as “performance-based ...   \n",
              "27  [(iii) Section 162(m) Compliance. Unless otherwise permitted in compliance with the requirements of Section 162(m) of the Code\\nwith respect to any Award intended to qualify as “performance-based ...   \n",
              "28  [(g)Termination of Continuous Service.Except as otherwise provided in the applicable Award Agreement or other agreement between\\nthe Participant and the Company, in the event that a Participant’s ...   \n",
              "29  [(jj) “Own,” “Owned,” “Owner,” “Ownership” means a person or Entity will be deemed to “Own,” to have “Owned,” to be the “Owner” of, or to\\nhave acquired “Ownership” of securities if such person or...   \n",
              "30  [(jj) “Own,” “Owned,” “Owner,” “Ownership” means a person or Entity will be deemed to “Own,” to have “Owned,” to be the “Owner” of, or to\\nhave acquired “Ownership” of securities if such person or...   \n",
              "31  [(jj) “Own,” “Owned,” “Owner,” “Ownership” means a person or Entity will be deemed to “Own,” to have “Owned,” to be the “Owner” of, or to\\nhave acquired “Ownership” of securities if such person or...   \n",
              "32  [(jj) “Own,” “Owned,” “Owner,” “Ownership” means a person or Entity will be deemed to “Own,” to have “Owned,” to be the “Owner” of, or to\\nhave acquired “Ownership” of securities if such person or...   \n",
              "33  [(iii) Section 162(m) Compliance. Unless otherwise permitted in compliance with the requirements of Section 162(m) of the Code\\nwith respect to any Award intended to qualify as “performance-based ...   \n",
              "34  [Restricted Stock Unit Award may be paid in any form of legal consideration that may be acceptable to the Board in its sole discretion and\\npermissible under applicable law.\\n(ii) Vesting. At the ...   \n",
              "35  [(iii) Section 162(m) Compliance. Unless otherwise permitted in compliance with the requirements of Section 162(m) of the Code\\nwith respect to any Award intended to qualify as “performance-based ...   \n",
              "\n",
              "    answer_relevancy  faithfulness  \n",
              "0           0.927000      1.000000  \n",
              "1           0.999999      1.000000  \n",
              "2           0.989098      1.000000  \n",
              "3           0.962703      0.666667  \n",
              "4           0.996730      0.666667  \n",
              "5           0.925411      1.000000  \n",
              "6           0.944217      0.800000  \n",
              "7           0.965344      0.500000  \n",
              "8           0.958285      1.000000  \n",
              "9           0.951517      0.750000  \n",
              "10          0.923673      0.833333  \n",
              "11          0.999998      0.750000  \n",
              "12          0.996148      1.000000  \n",
              "13          0.902588      1.000000  \n",
              "14          0.960188      0.666667  \n",
              "15          0.993134      1.000000  \n",
              "16          0.994904      1.000000  \n",
              "17          0.961005      1.000000  \n",
              "18          0.967223      0.666667  \n",
              "19          0.965266      1.000000  \n",
              "20          0.970752      1.000000  \n",
              "21          0.960417      0.500000  \n",
              "22          0.967936      1.000000  \n",
              "23          0.987940      1.000000  \n",
              "24          0.994548      0.500000  \n",
              "25          0.950568      1.000000  \n",
              "26          0.952837      0.750000  \n",
              "27          0.904871      1.000000  \n",
              "28          0.935641      0.800000  \n",
              "29          0.961357      1.000000  \n",
              "30          0.931213      1.000000  \n",
              "31          1.000000      1.000000  \n",
              "32          1.000000      1.000000  \n",
              "33          0.882072      1.000000  \n",
              "34          0.920726      1.000000  \n",
              "35          0.941182      1.000000  "
            ],
            "text/html": [
              "\n",
              "  <div id=\"df-394a1238-0afb-42fe-857e-7a1a4fff9899\" class=\"colab-df-container\">\n",
              "    <div>\n",
              "<style scoped>\n",
              "    .dataframe tbody tr th:only-of-type {\n",
              "        vertical-align: middle;\n",
              "    }\n",
              "\n",
              "    .dataframe tbody tr th {\n",
              "        vertical-align: top;\n",
              "    }\n",
              "\n",
              "    .dataframe thead th {\n",
              "        text-align: right;\n",
              "    }\n",
              "</style>\n",
              "<table border=\"1\" class=\"dataframe\">\n",
              "  <thead>\n",
              "    <tr style=\"text-align: right;\">\n",
              "      <th></th>\n",
              "      <th>question</th>\n",
              "      <th>answer</th>\n",
              "      <th>contexts</th>\n",
              "      <th>answer_relevancy</th>\n",
              "      <th>faithfulness</th>\n",
              "    </tr>\n",
              "  </thead>\n",
              "  <tbody>\n",
              "    <tr>\n",
              "      <th>0</th>\n",
              "      <td>How does the company recognize the benefit from a tax position?</td>\n",
              "      <td>The company recognizes the benefit from a tax position by classifying it as a current liability or amount refundable if they anticipate payment or receipt of cash for income taxes within one year....</td>\n",
              "      <td>[Table of Contents\\nprice basis by maximizing the use of observable inputs to determine the standalone selling price for each performance obligation); and (5)\\nrecognition of revenue when, or as, ...</td>\n",
              "      <td>0.927000</td>\n",
              "      <td>1.000000</td>\n",
              "    </tr>\n",
              "    <tr>\n",
              "      <th>1</th>\n",
              "      <td>What is the company's policy regarding interest and penalties related to unrecognized tax benefits?</td>\n",
              "      <td>The company's policy is to include interest and penalties related to unrecognized tax benefits as a component of income tax expense.</td>\n",
              "      <td>[Table of Contents\\nNVIDIA CORPORATION AND SUBSIDIARIES\\nNOTES TO THE CONSOLIDATED FINANCIAL STATEMENTS\\n(Continued)\\nbe subject to limitations due to ownership changes and other limitations provi...</td>\n",
              "      <td>0.999999</td>\n",
              "      <td>1.000000</td>\n",
              "    </tr>\n",
              "    <tr>\n",
              "      <th>2</th>\n",
              "      <td>How is basic net income per share computed?</td>\n",
              "      <td>Basic net income per share is computed by dividing the net income by the basic weighted average shares.</td>\n",
              "      <td>[Table of Contents\\nNVIDIA CORPORATION AND SUBSIDIARIES\\nNOTES TO THE CONSOLIDATED FINANCIAL STATEMENTS\\n(Continued)\\nNote 5 - Net Income Per Share\\nThe following is a reconciliation of the denomi...</td>\n",
              "      <td>0.989098</td>\n",
              "      <td>1.000000</td>\n",
              "    </tr>\n",
              "    <tr>\n",
              "      <th>3</th>\n",
              "      <td>How is diluted net income per share computed?</td>\n",
              "      <td>Diluted net income per share is computed using the weighted average number of common and potentially dilutive shares outstanding during the period, using the treasury stock method. Under the treas...</td>\n",
              "      <td>[Table of Contents\\nNVIDIA CORPORATION AND SUBSIDIARIES\\nNOTES TO THE CONSOLIDATED FINANCIAL STATEMENTS\\n(Continued)\\nNote 5 - Net Income Per Share\\nThe following is a reconciliation of the denomi...</td>\n",
              "      <td>0.962703</td>\n",
              "      <td>0.666667</td>\n",
              "    </tr>\n",
              "    <tr>\n",
              "      <th>4</th>\n",
              "      <td>How does the company classify cash equivalents and marketable securities?</td>\n",
              "      <td>The company classifies cash equivalents as highly liquid investments that are readily convertible into cash and have an original maturity of three months or less at the time of purchase. Marketabl...</td>\n",
              "      <td>[Table of Contents\\nNVIDIA CORPORATION AND SUBSIDIARIES\\nNOTES TO THE CONSOLIDATED FINANCIAL STATEMENTS\\n(Continued)\\nWe recognize the benefit from a tax position only if it is more-likely-than-no...</td>\n",
              "      <td>0.996730</td>\n",
              "      <td>0.666667</td>\n",
              "    </tr>\n",
              "    <tr>\n",
              "      <th>5</th>\n",
              "      <td>What is the classification of the company's investments based on their nature and availability for use in current operations?</td>\n",
              "      <td>The company classifies its investments as current based on the nature of the investments and their availability for use in current operations.</td>\n",
              "      <td>[Table of Contents\\nNVIDIA CORPORATION AND SUBSIDIARIES\\nNOTES TO THE CONSOLIDATED FINANCIAL STATEMENTS\\n(Continued)\\nidentified for specific customers and an amount based on overall estimated exp...</td>\n",
              "      <td>0.925411</td>\n",
              "      <td>1.000000</td>\n",
              "    </tr>\n",
              "    <tr>\n",
              "      <th>6</th>\n",
              "      <td>How does the company report available-for-sale debt securities?</td>\n",
              "      <td>The company reports available-for-sale debt securities at fair value. The related unrealized gains and losses are included in accumulated other comprehensive income or loss, which is a component o...</td>\n",
              "      <td>[Table of Contents\\nNVIDIA CORPORATION AND SUBSIDIARIES\\nNOTES TO THE CONSOLIDATED FINANCIAL STATEMENTS\\n(Continued)\\nWe recognize the benefit from a tax position only if it is more-likely-than-no...</td>\n",
              "      <td>0.944217</td>\n",
              "      <td>0.800000</td>\n",
              "    </tr>\n",
              "    <tr>\n",
              "      <th>7</th>\n",
              "      <td>How are realized gains and losses on the sale of marketable securities recorded?</td>\n",
              "      <td>Realized gains and losses on the sale of marketable securities are determined using the specific-identification method and recorded in the other income (expense), net, section of the company's Con...</td>\n",
              "      <td>[Table of Contents\\nNVIDIA CORPORATION AND SUBSIDIARIES\\nNOTES TO THE CONSOLIDATED FINANCIAL STATEMENTS\\n(Continued)\\nThe following tables provide the breakdown of unrealized losses as of January ...</td>\n",
              "      <td>0.965344</td>\n",
              "      <td>0.500000</td>\n",
              "    </tr>\n",
              "    <tr>\n",
              "      <th>8</th>\n",
              "      <td>What is the periodic impairment review process for available-for-sale debt investments?</td>\n",
              "      <td>The context does not provide information on the periodic impairment review process for available-for-sale debt investments.</td>\n",
              "      <td>[Table of Contents\\nNVIDIA CORPORATION AND SUBSIDIARIES\\nNOTES TO THE CONSOLIDATED FINANCIAL STATEMENTS\\n(Continued)\\nidentified for specific customers and an amount based on overall estimated exp...</td>\n",
              "      <td>0.958285</td>\n",
              "      <td>1.000000</td>\n",
              "    </tr>\n",
              "    <tr>\n",
              "      <th>9</th>\n",
              "      <td>How does the company determine the fair value of marketable securities?</td>\n",
              "      <td>The company determines the fair value of marketable securities based on quoted market prices. Marketable securities are reported at fair value, with the related unrealized gains or losses included...</td>\n",
              "      <td>[Table of Contents\\nNVIDIA CORPORATION AND SUBSIDIARIES\\nNOTES TO THE CONSOLIDATED FINANCIAL STATEMENTS\\n(Continued)\\nWe recognize the benefit from a tax position only if it is more-likely-than-no...</td>\n",
              "      <td>0.951517</td>\n",
              "      <td>0.750000</td>\n",
              "    </tr>\n",
              "    <tr>\n",
              "      <th>10</th>\n",
              "      <td>How are derivative instruments recognized and measured?</td>\n",
              "      <td>Derivative instruments are recognized as either assets or liabilities and are measured at fair value. The accounting for changes in the fair value of a derivative depends on the intended use of th...</td>\n",
              "      <td>[Table of Contents\\nNVIDIA CORPORATION AND SUBSIDIARIES\\nNOTES TO THE CONSOLIDATED FINANCIAL STATEMENTS\\n(Continued)\\nWe recognize the benefit from a tax position only if it is more-likely-than-no...</td>\n",
              "      <td>0.923673</td>\n",
              "      <td>0.833333</td>\n",
              "    </tr>\n",
              "    <tr>\n",
              "      <th>11</th>\n",
              "      <td>What is the accounting treatment for changes in the fair value of derivative instruments?</td>\n",
              "      <td>The accounting treatment for changes in the fair value of derivative instruments depends on the intended use of the derivative and the resulting designation. For derivative instruments designated ...</td>\n",
              "      <td>[Table of Contents\\nNVIDIA CORPORATION AND SUBSIDIARIES\\nNOTES TO THE CONSOLIDATED FINANCIAL STATEMENTS\\n(Continued)\\nWe recognize the benefit from a tax position only if it is more-likely-than-no...</td>\n",
              "      <td>0.999998</td>\n",
              "      <td>0.750000</td>\n",
              "    </tr>\n",
              "    <tr>\n",
              "      <th>12</th>\n",
              "      <td>What financial instruments potentially subject the company to concentrations of credit risk?</td>\n",
              "      <td>The financial instruments that potentially subject the company to concentrations of credit risk consist primarily of cash equivalents, marketable securities, and accounts receivable.</td>\n",
              "      <td>[Table of Contents\\nNVIDIA CORPORATION AND SUBSIDIARIES\\nNOTES TO THE CONSOLIDATED FINANCIAL STATEMENTS\\n(Continued)\\nWe recognize the benefit from a tax position only if it is more-likely-than-no...</td>\n",
              "      <td>0.996148</td>\n",
              "      <td>1.000000</td>\n",
              "    </tr>\n",
              "    <tr>\n",
              "      <th>13</th>\n",
              "      <td>What is the company's investment policy regarding fixed income securities?</td>\n",
              "      <td>The company's investment policy requires the purchase of highly-rated fixed income securities.</td>\n",
              "      <td>[Table of Contents\\nNVIDIA CORPORATION AND SUBSIDIARIES\\nNOTES TO THE CONSOLIDATED FINANCIAL STATEMENTS\\n(Continued)\\nWe recognize the benefit from a tax position only if it is more-likely-than-no...</td>\n",
              "      <td>0.902588</td>\n",
              "      <td>1.000000</td>\n",
              "    </tr>\n",
              "    <tr>\n",
              "      <th>14</th>\n",
              "      <td>What is the requirement for repatriating cash proceeds to Thailand for Thai residents who realize US$1,000,000 or more in a single transaction from the sale of shares of Common Stock or the paymen...</td>\n",
              "      <td>Thai residents who realize US$1,000,000 or more in a single transaction from the sale of shares of Common Stock or the payment of dividends are required to repatriate the cash proceeds to Thailand...</td>\n",
              "      <td>[to satisfy Tax-Related Items, regardless of whether the Company and/or the Service Recipient have an obligation to\\nwithhold such Tax-Related Items.\\nSWITZERLAND\\nNotifications\\nSecurities Law In...</td>\n",
              "      <td>0.960188</td>\n",
              "      <td>0.666667</td>\n",
              "    </tr>\n",
              "    <tr>\n",
              "      <th>15</th>\n",
              "      <td>What is the maximum amount of foreign currency that Taiwanese residents can acquire and remit into Taiwan without justification?</td>\n",
              "      <td>Taiwanese residents can acquire and remit foreign currency into Taiwan up to US$5,000,000 per year without justification.</td>\n",
              "      <td>[exchange control laws, which may be amended from time to time. You must obtain a foreign inward remittance certificate\\n(“FIRC ”) from the bank where you deposit the foreign currency and must mai...</td>\n",
              "      <td>0.993134</td>\n",
              "      <td>1.000000</td>\n",
              "    </tr>\n",
              "    <tr>\n",
              "      <th>16</th>\n",
              "      <td>Is the offer of participation in the Plan a public offer of securities by a Taiwanese company?</td>\n",
              "      <td>No, the offer of participation in the Plan is not a public offer of securities by a Taiwanese company.</td>\n",
              "      <td>[to satisfy Tax-Related Items, regardless of whether the Company and/or the Service Recipient have an obligation to\\nwithhold such Tax-Related Items.\\nSWITZERLAND\\nNotifications\\nSecurities Law In...</td>\n",
              "      <td>0.994904</td>\n",
              "      <td>1.000000</td>\n",
              "    </tr>\n",
              "    <tr>\n",
              "      <th>17</th>\n",
              "      <td>Is the offer of the Award subject to registration in Switzerland?</td>\n",
              "      <td>No, the offer of the Award is not subject to registration in Switzerland.</td>\n",
              "      <td>[to satisfy Tax-Related Items, regardless of whether the Company and/or the Service Recipient have an obligation to\\nwithhold such Tax-Related Items.\\nSWITZERLAND\\nNotifications\\nSecurities Law In...</td>\n",
              "      <td>0.961005</td>\n",
              "      <td>1.000000</td>\n",
              "    </tr>\n",
              "    <tr>\n",
              "      <th>18</th>\n",
              "      <td>Are there any specific reporting requirements for Thai residents who repatriate amounts of US$1,000,000 or more to Thailand?</td>\n",
              "      <td>Yes, Thai residents who repatriate amounts of US$1,000,000 or more to Thailand are required to immediately repatriate the cash proceeds to Thailand following the receipt of such proceeds. They mus...</td>\n",
              "      <td>[JAPAN\\nNotifications\\nForeign Asset/Acc ount Reporting Information . Japanese residen ts are required to report details of any assets held\\noutside Japan (e.g., shares of Comm on Stock acquired u...</td>\n",
              "      <td>0.967223</td>\n",
              "      <td>0.666667</td>\n",
              "    </tr>\n",
              "    <tr>\n",
              "      <th>19</th>\n",
              "      <td>What forms of legal consideration are acceptable for the payment of Restricted Stock Unit Awards?</td>\n",
              "      <td>The context does not specify the exact forms of legal consideration that are acceptable for the payment of Restricted Stock Unit Awards. It states that the Board has the discretion to determine th...</td>\n",
              "      <td>[Restricted Stock Unit Award may be paid in any form of legal consideration that may be acceptable to the Board in its sole discretion and\\npermissible under applicable law.\\n(ii) Vesting. At the ...</td>\n",
              "      <td>0.965266</td>\n",
              "      <td>1.000000</td>\n",
              "    </tr>\n",
              "    <tr>\n",
              "      <th>20</th>\n",
              "      <td>Can the Board impose restrictions or conditions on the vesting of Restricted Stock Unit Awards?</td>\n",
              "      <td>Yes, the Board can impose restrictions or conditions on the vesting of Restricted Stock Unit Awards. The Board has the discretion to determine such restrictions or conditions at the time of the gr...</td>\n",
              "      <td>[Restricted Stock Unit Award may be paid in any form of legal consideration that may be acceptable to the Board in its sole discretion and\\npermissible under applicable law.\\n(ii) Vesting. At the ...</td>\n",
              "      <td>0.970752</td>\n",
              "      <td>1.000000</td>\n",
              "    </tr>\n",
              "    <tr>\n",
              "      <th>21</th>\n",
              "      <td>What happens to a Restricted Stock Unit Award if a participant's Continuous Service terminates due to death?</td>\n",
              "      <td>If a participant's Continuous Service terminates due to their death, the Restricted Stock Unit Award will become fully vested as of the date of termination of Continuous Service.</td>\n",
              "      <td>[Restricted Stock Unit Award may be paid in any form of legal consideration that may be acceptable to the Board in its sole discretion and\\npermissible under applicable law.\\n(ii) Vesting. At the ...</td>\n",
              "      <td>0.960417</td>\n",
              "      <td>0.500000</td>\n",
              "    </tr>\n",
              "    <tr>\n",
              "      <th>22</th>\n",
              "      <td>How can a Restricted Stock Unit Award be settled?</td>\n",
              "      <td>A Restricted Stock Unit Award can be settled in various ways, as determined by the Board and stated in the Restricted Stock Unit Award Agreement. It can be settled by the delivery of shares of Com...</td>\n",
              "      <td>[Restricted Stock Unit Award may be paid in any form of legal consideration that may be acceptable to the Board in its sole discretion and\\npermissible under applicable law.\\n(ii) Vesting. At the ...</td>\n",
              "      <td>0.967936</td>\n",
              "      <td>1.000000</td>\n",
              "    </tr>\n",
              "    <tr>\n",
              "      <th>23</th>\n",
              "      <td>Can the Board impose additional restrictions or conditions on the delivery of shares of Common Stock subject to a Restricted Stock Unit Award?</td>\n",
              "      <td>Yes, the Board can impose additional restrictions or conditions that delay the delivery of the shares of Common Stock subject to a Restricted Stock Unit Award to a time after the vesting of such R...</td>\n",
              "      <td>[Restricted Stock Unit Award may be paid in any form of legal consideration that may be acceptable to the Board in its sole discretion and\\npermissible under applicable law.\\n(ii) Vesting. At the ...</td>\n",
              "      <td>0.987940</td>\n",
              "      <td>1.000000</td>\n",
              "    </tr>\n",
              "    <tr>\n",
              "      <th>24</th>\n",
              "      <td>What happens to the unvested portion of a Restricted Stock Unit Award upon a participant's termination of Continuous Service?</td>\n",
              "      <td>Upon a participant's termination of Continuous Service, the unvested portion of a Restricted Stock Unit Award will be forfeited, unless otherwise provided in the applicable Restricted Stock Unit A...</td>\n",
              "      <td>[Restricted Stock Unit Award may be paid in any form of legal consideration that may be acceptable to the Board in its sole discretion and\\npermissible under applicable law.\\n(ii) Vesting. At the ...</td>\n",
              "      <td>0.994548</td>\n",
              "      <td>0.500000</td>\n",
              "    </tr>\n",
              "    <tr>\n",
              "      <th>25</th>\n",
              "      <td>What is a Performance Stock Award?</td>\n",
              "      <td>A Performance Stock Award is a type of Stock Award that is contingent upon the achievement of certain Performance Goals during a specified Performance Period. It may also require the completion of...</td>\n",
              "      <td>[Restricted Stock Unit Award may be paid in any form of legal consideration that may be acceptable to the Board in its sole discretion and\\npermissible under applicable law.\\n(ii) Vesting. At the ...</td>\n",
              "      <td>0.950568</td>\n",
              "      <td>1.000000</td>\n",
              "    </tr>\n",
              "    <tr>\n",
              "      <th>26</th>\n",
              "      <td>What are the requirements for earning a Performance Stock Award?</td>\n",
              "      <td>The requirements for earning a Performance Stock Award are contingent upon the attainment of certain Performance Goals during a specified Performance Period. The length of the Performance Period, ...</td>\n",
              "      <td>[(iii) Section 162(m) Compliance. Unless otherwise permitted in compliance with the requirements of Section 162(m) of the Code\\nwith respect to any Award intended to qualify as “performance-based ...</td>\n",
              "      <td>0.952837</td>\n",
              "      <td>0.750000</td>\n",
              "    </tr>\n",
              "    <tr>\n",
              "      <th>27</th>\n",
              "      <td>Who determines the Performance Goals and the measure of their attainment for a Performance Stock Award?</td>\n",
              "      <td>The Committee is responsible for establishing the Performance Goals and the formula for calculating the amount payable under a Performance Stock Award. These goals are determined no later than the...</td>\n",
              "      <td>[(iii) Section 162(m) Compliance. Unless otherwise permitted in compliance with the requirements of Section 162(m) of the Code\\nwith respect to any Award intended to qualify as “performance-based ...</td>\n",
              "      <td>0.904871</td>\n",
              "      <td>1.000000</td>\n",
              "    </tr>\n",
              "    <tr>\n",
              "      <th>28</th>\n",
              "      <td>What happens to a Performance Stock Award if a participant's Continuous Service terminates due to death?</td>\n",
              "      <td>If a participant's Continuous Service terminates due to death, the Performance Stock Award may be exercised by the participant's estate, by a person who acquired the right to exercise the Award by...</td>\n",
              "      <td>[(g)Termination of Continuous Service.Except as otherwise provided in the applicable Award Agreement or other agreement between\\nthe Participant and the Company, in the event that a Participant’s ...</td>\n",
              "      <td>0.935641</td>\n",
              "      <td>0.800000</td>\n",
              "    </tr>\n",
              "    <tr>\n",
              "      <th>29</th>\n",
              "      <td>What is a Performance Cash Award?</td>\n",
              "      <td>A Performance Cash Award is a cash award that is payable contingent upon the attainment of certain Performance Goals during a specified Performance Period. It may also require the completion of a ...</td>\n",
              "      <td>[(jj) “Own,” “Owned,” “Owner,” “Ownership” means a person or Entity will be deemed to “Own,” to have “Owned,” to be the “Owner” of, or to\\nhave acquired “Ownership” of securities if such person or...</td>\n",
              "      <td>0.961357</td>\n",
              "      <td>1.000000</td>\n",
              "    </tr>\n",
              "    <tr>\n",
              "      <th>30</th>\n",
              "      <td>What are the requirements for earning a Performance Cash Award?</td>\n",
              "      <td>The context does not provide specific information on the requirements for earning a Performance Cash Award.</td>\n",
              "      <td>[(jj) “Own,” “Owned,” “Owner,” “Ownership” means a person or Entity will be deemed to “Own,” to have “Owned,” to be the “Owner” of, or to\\nhave acquired “Ownership” of securities if such person or...</td>\n",
              "      <td>0.931213</td>\n",
              "      <td>1.000000</td>\n",
              "    </tr>\n",
              "    <tr>\n",
              "      <th>31</th>\n",
              "      <td>How is the length of a Performance Period determined for a Performance Cash Award?</td>\n",
              "      <td>The context does not provide information on how the length of a Performance Period is determined for a Performance Cash Award.</td>\n",
              "      <td>[(jj) “Own,” “Owned,” “Owner,” “Ownership” means a person or Entity will be deemed to “Own,” to have “Owned,” to be the “Owner” of, or to\\nhave acquired “Ownership” of securities if such person or...</td>\n",
              "      <td>1.000000</td>\n",
              "      <td>1.000000</td>\n",
              "    </tr>\n",
              "    <tr>\n",
              "      <th>32</th>\n",
              "      <td>Who determines the Performance Goals and the measure of their attainment for a Performance Cash Award?</td>\n",
              "      <td>The Committee, or in some cases the Board, determines the Performance Goals and the measure of their attainment for a Performance Cash Award.</td>\n",
              "      <td>[(jj) “Own,” “Owned,” “Owner,” “Ownership” means a person or Entity will be deemed to “Own,” to have “Owned,” to be the “Owner” of, or to\\nhave acquired “Ownership” of securities if such person or...</td>\n",
              "      <td>1.000000</td>\n",
              "      <td>1.000000</td>\n",
              "    </tr>\n",
              "    <tr>\n",
              "      <th>33</th>\n",
              "      <td>Can a participant defer the payment of a Performance Cash Award?</td>\n",
              "      <td>Yes, the Board, in its sole discretion, may determine that the delivery of Common Stock or the payment of cash, upon the exercise, vesting or settlement of all or a portion of any Award may be def...</td>\n",
              "      <td>[(iii) Section 162(m) Compliance. Unless otherwise permitted in compliance with the requirements of Section 162(m) of the Code\\nwith respect to any Award intended to qualify as “performance-based ...</td>\n",
              "      <td>0.882072</td>\n",
              "      <td>1.000000</td>\n",
              "    </tr>\n",
              "    <tr>\n",
              "      <th>34</th>\n",
              "      <td>What forms of payment can be specified for Performance Cash Awards?</td>\n",
              "      <td>The context does not provide specific information on the forms of payment that can be specified for Performance Cash Awards.</td>\n",
              "      <td>[Restricted Stock Unit Award may be paid in any form of legal consideration that may be acceptable to the Board in its sole discretion and\\npermissible under applicable law.\\n(ii) Vesting. At the ...</td>\n",
              "      <td>0.920726</td>\n",
              "      <td>1.000000</td>\n",
              "    </tr>\n",
              "    <tr>\n",
              "      <th>35</th>\n",
              "      <td>Can Common Stock be used in payment of Performance Cash Awards?</td>\n",
              "      <td>Yes, the context states that to the extent permitted by applicable law and the applicable Award Agreement, the Board or the Committee, as applicable, may determine that Common Stock authorized und...</td>\n",
              "      <td>[(iii) Section 162(m) Compliance. Unless otherwise permitted in compliance with the requirements of Section 162(m) of the Code\\nwith respect to any Award intended to qualify as “performance-based ...</td>\n",
              "      <td>0.941182</td>\n",
              "      <td>1.000000</td>\n",
              "    </tr>\n",
              "  </tbody>\n",
              "</table>\n",
              "</div>\n",
              "    <div class=\"colab-df-buttons\">\n",
              "\n",
              "  <div class=\"colab-df-container\">\n",
              "    <button class=\"colab-df-convert\" onclick=\"convertToInteractive('df-394a1238-0afb-42fe-857e-7a1a4fff9899')\"\n",
              "            title=\"Convert this dataframe to an interactive table.\"\n",
              "            style=\"display:none;\">\n",
              "\n",
              "  <svg xmlns=\"http://www.w3.org/2000/svg\" height=\"24px\" viewBox=\"0 -960 960 960\">\n",
              "    <path d=\"M120-120v-720h720v720H120Zm60-500h600v-160H180v160Zm220 220h160v-160H400v160Zm0 220h160v-160H400v160ZM180-400h160v-160H180v160Zm440 0h160v-160H620v160ZM180-180h160v-160H180v160Zm440 0h160v-160H620v160Z\"/>\n",
              "  </svg>\n",
              "    </button>\n",
              "\n",
              "  <style>\n",
              "    .colab-df-container {\n",
              "      display:flex;\n",
              "      gap: 12px;\n",
              "    }\n",
              "\n",
              "    .colab-df-convert {\n",
              "      background-color: #E8F0FE;\n",
              "      border: none;\n",
              "      border-radius: 50%;\n",
              "      cursor: pointer;\n",
              "      display: none;\n",
              "      fill: #1967D2;\n",
              "      height: 32px;\n",
              "      padding: 0 0 0 0;\n",
              "      width: 32px;\n",
              "    }\n",
              "\n",
              "    .colab-df-convert:hover {\n",
              "      background-color: #E2EBFA;\n",
              "      box-shadow: 0px 1px 2px rgba(60, 64, 67, 0.3), 0px 1px 3px 1px rgba(60, 64, 67, 0.15);\n",
              "      fill: #174EA6;\n",
              "    }\n",
              "\n",
              "    .colab-df-buttons div {\n",
              "      margin-bottom: 4px;\n",
              "    }\n",
              "\n",
              "    [theme=dark] .colab-df-convert {\n",
              "      background-color: #3B4455;\n",
              "      fill: #D2E3FC;\n",
              "    }\n",
              "\n",
              "    [theme=dark] .colab-df-convert:hover {\n",
              "      background-color: #434B5C;\n",
              "      box-shadow: 0px 1px 3px 1px rgba(0, 0, 0, 0.15);\n",
              "      filter: drop-shadow(0px 1px 2px rgba(0, 0, 0, 0.3));\n",
              "      fill: #FFFFFF;\n",
              "    }\n",
              "  </style>\n",
              "\n",
              "    <script>\n",
              "      const buttonEl =\n",
              "        document.querySelector('#df-394a1238-0afb-42fe-857e-7a1a4fff9899 button.colab-df-convert');\n",
              "      buttonEl.style.display =\n",
              "        google.colab.kernel.accessAllowed ? 'block' : 'none';\n",
              "\n",
              "      async function convertToInteractive(key) {\n",
              "        const element = document.querySelector('#df-394a1238-0afb-42fe-857e-7a1a4fff9899');\n",
              "        const dataTable =\n",
              "          await google.colab.kernel.invokeFunction('convertToInteractive',\n",
              "                                                    [key], {});\n",
              "        if (!dataTable) return;\n",
              "\n",
              "        const docLinkHtml = 'Like what you see? Visit the ' +\n",
              "          '<a target=\"_blank\" href=https://colab.research.google.com/notebooks/data_table.ipynb>data table notebook</a>'\n",
              "          + ' to learn more about interactive tables.';\n",
              "        element.innerHTML = '';\n",
              "        dataTable['output_type'] = 'display_data';\n",
              "        await google.colab.output.renderOutput(dataTable, element);\n",
              "        const docLink = document.createElement('div');\n",
              "        docLink.innerHTML = docLinkHtml;\n",
              "        element.appendChild(docLink);\n",
              "      }\n",
              "    </script>\n",
              "  </div>\n",
              "\n",
              "\n",
              "<div id=\"df-92848c4f-85f1-4bc3-b0b8-11fa96ceddd1\">\n",
              "  <button class=\"colab-df-quickchart\" onclick=\"quickchart('df-92848c4f-85f1-4bc3-b0b8-11fa96ceddd1')\"\n",
              "            title=\"Suggest charts.\"\n",
              "            style=\"display:none;\">\n",
              "\n",
              "<svg xmlns=\"http://www.w3.org/2000/svg\" height=\"24px\"viewBox=\"0 0 24 24\"\n",
              "     width=\"24px\">\n",
              "    <g>\n",
              "        <path d=\"M19 3H5c-1.1 0-2 .9-2 2v14c0 1.1.9 2 2 2h14c1.1 0 2-.9 2-2V5c0-1.1-.9-2-2-2zM9 17H7v-7h2v7zm4 0h-2V7h2v10zm4 0h-2v-4h2v4z\"/>\n",
              "    </g>\n",
              "</svg>\n",
              "  </button>\n",
              "\n",
              "<style>\n",
              "  .colab-df-quickchart {\n",
              "      --bg-color: #E8F0FE;\n",
              "      --fill-color: #1967D2;\n",
              "      --hover-bg-color: #E2EBFA;\n",
              "      --hover-fill-color: #174EA6;\n",
              "      --disabled-fill-color: #AAA;\n",
              "      --disabled-bg-color: #DDD;\n",
              "  }\n",
              "\n",
              "  [theme=dark] .colab-df-quickchart {\n",
              "      --bg-color: #3B4455;\n",
              "      --fill-color: #D2E3FC;\n",
              "      --hover-bg-color: #434B5C;\n",
              "      --hover-fill-color: #FFFFFF;\n",
              "      --disabled-bg-color: #3B4455;\n",
              "      --disabled-fill-color: #666;\n",
              "  }\n",
              "\n",
              "  .colab-df-quickchart {\n",
              "    background-color: var(--bg-color);\n",
              "    border: none;\n",
              "    border-radius: 50%;\n",
              "    cursor: pointer;\n",
              "    display: none;\n",
              "    fill: var(--fill-color);\n",
              "    height: 32px;\n",
              "    padding: 0;\n",
              "    width: 32px;\n",
              "  }\n",
              "\n",
              "  .colab-df-quickchart:hover {\n",
              "    background-color: var(--hover-bg-color);\n",
              "    box-shadow: 0 1px 2px rgba(60, 64, 67, 0.3), 0 1px 3px 1px rgba(60, 64, 67, 0.15);\n",
              "    fill: var(--button-hover-fill-color);\n",
              "  }\n",
              "\n",
              "  .colab-df-quickchart-complete:disabled,\n",
              "  .colab-df-quickchart-complete:disabled:hover {\n",
              "    background-color: var(--disabled-bg-color);\n",
              "    fill: var(--disabled-fill-color);\n",
              "    box-shadow: none;\n",
              "  }\n",
              "\n",
              "  .colab-df-spinner {\n",
              "    border: 2px solid var(--fill-color);\n",
              "    border-color: transparent;\n",
              "    border-bottom-color: var(--fill-color);\n",
              "    animation:\n",
              "      spin 1s steps(1) infinite;\n",
              "  }\n",
              "\n",
              "  @keyframes spin {\n",
              "    0% {\n",
              "      border-color: transparent;\n",
              "      border-bottom-color: var(--fill-color);\n",
              "      border-left-color: var(--fill-color);\n",
              "    }\n",
              "    20% {\n",
              "      border-color: transparent;\n",
              "      border-left-color: var(--fill-color);\n",
              "      border-top-color: var(--fill-color);\n",
              "    }\n",
              "    30% {\n",
              "      border-color: transparent;\n",
              "      border-left-color: var(--fill-color);\n",
              "      border-top-color: var(--fill-color);\n",
              "      border-right-color: var(--fill-color);\n",
              "    }\n",
              "    40% {\n",
              "      border-color: transparent;\n",
              "      border-right-color: var(--fill-color);\n",
              "      border-top-color: var(--fill-color);\n",
              "    }\n",
              "    60% {\n",
              "      border-color: transparent;\n",
              "      border-right-color: var(--fill-color);\n",
              "    }\n",
              "    80% {\n",
              "      border-color: transparent;\n",
              "      border-right-color: var(--fill-color);\n",
              "      border-bottom-color: var(--fill-color);\n",
              "    }\n",
              "    90% {\n",
              "      border-color: transparent;\n",
              "      border-bottom-color: var(--fill-color);\n",
              "    }\n",
              "  }\n",
              "</style>\n",
              "\n",
              "  <script>\n",
              "    async function quickchart(key) {\n",
              "      const quickchartButtonEl =\n",
              "        document.querySelector('#' + key + ' button');\n",
              "      quickchartButtonEl.disabled = true;  // To prevent multiple clicks.\n",
              "      quickchartButtonEl.classList.add('colab-df-spinner');\n",
              "      try {\n",
              "        const charts = await google.colab.kernel.invokeFunction(\n",
              "            'suggestCharts', [key], {});\n",
              "      } catch (error) {\n",
              "        console.error('Error during call to suggestCharts:', error);\n",
              "      }\n",
              "      quickchartButtonEl.classList.remove('colab-df-spinner');\n",
              "      quickchartButtonEl.classList.add('colab-df-quickchart-complete');\n",
              "    }\n",
              "    (() => {\n",
              "      let quickchartButtonEl =\n",
              "        document.querySelector('#df-92848c4f-85f1-4bc3-b0b8-11fa96ceddd1 button');\n",
              "      quickchartButtonEl.style.display =\n",
              "        google.colab.kernel.accessAllowed ? 'block' : 'none';\n",
              "    })();\n",
              "  </script>\n",
              "</div>\n",
              "    </div>\n",
              "  </div>\n"
            ]
          },
          "metadata": {},
          "execution_count": 51
        }
      ]
    },
    {
      "cell_type": "markdown",
      "source": [
        "### Eval with evaluation module"
      ],
      "metadata": {
        "id": "KXwtoMj8xtEN"
      }
    },
    {
      "cell_type": "code",
      "source": [
        "# eval for hallucination\n",
        "evaluator = ResponseEvaluator(service_context=gpt4_service_context)\n",
        "total_correct, all_results = evaluate_query_engine(evaluator, query_engine, questions)\n",
        "print(f\"Hallucination? Scored {total_correct} out of {len(questions)} questions correctly.\")"
      ],
      "metadata": {
        "colab": {
          "base_uri": "https://localhost:8080/"
        },
        "id": "sOfF4yM8xxpi",
        "outputId": "4a7e15d9-33e9-4e03-8f82-8281dff1f986"
      },
      "execution_count": 35,
      "outputs": [
        {
          "output_type": "stream",
          "name": "stdout",
          "text": [
            "finished batch 1 out of 8\n",
            "finished batch 2 out of 8\n",
            "finished batch 3 out of 8\n",
            "finished batch 4 out of 8\n",
            "finished batch 5 out of 8\n",
            "finished batch 6 out of 8\n",
            "finished batch 7 out of 8\n",
            "finished batch 8 out of 8\n",
            "Hallucination? Scored 17 out of 40 questions correctly.\n"
          ]
        }
      ]
    },
    {
      "cell_type": "code",
      "source": [
        "# eval for answer quality\n",
        "evaluator = QueryResponseEvaluator(service_context=gpt4_service_context)\n",
        "total_correct, all_results = evaluate_query_engine(evaluator, query_engine, questions)\n",
        "print(f\"Response satisfies the query? Scored {total_correct} out of {len(questions)} questions correctly.\")"
      ],
      "metadata": {
        "colab": {
          "base_uri": "https://localhost:8080/"
        },
        "id": "cfNp8GzoxzGK",
        "outputId": "4a255f5b-20dc-4963-861c-6d08a35aafc3"
      },
      "execution_count": 36,
      "outputs": [
        {
          "output_type": "stream",
          "name": "stdout",
          "text": [
            "finished batch 1 out of 8\n",
            "finished batch 2 out of 8\n",
            "finished batch 3 out of 8\n",
            "finished batch 4 out of 8\n",
            "finished batch 5 out of 8\n",
            "finished batch 6 out of 8\n"
          ]
        },
        {
          "output_type": "stream",
          "name": "stderr",
          "text": [
            "WARNING:llama_index.llms.openai_utils:Retrying llama_index.llms.openai_utils.acompletion_with_retry.<locals>._completion_with_retry in 4.0 seconds as it raised ServiceUnavailableError: The server is overloaded or not ready yet..\n"
          ]
        },
        {
          "output_type": "stream",
          "name": "stdout",
          "text": [
            "finished batch 7 out of 8\n",
            "finished batch 8 out of 8\n",
            "Response satisfies the query? Scored 21 out of 40 questions correctly.\n"
          ]
        }
      ]
    },
    {
      "cell_type": "markdown",
      "metadata": {
        "id": "-WuuuSGRn7cU"
      },
      "source": [
        "## Exploring difference"
      ]
    },
    {
      "cell_type": "code",
      "execution_count": null,
      "metadata": {
        "id": "NJEFFCS6n9nk"
      },
      "outputs": [],
      "source": [
        "from llama_index import VectorStoreIndex\n",
        "\n",
        "index = VectorStoreIndex.from_documents(documents)"
      ]
    },
    {
      "cell_type": "code",
      "execution_count": null,
      "metadata": {
        "id": "JJZr6KDln-Mv"
      },
      "outputs": [],
      "source": [
        "questions = []\n",
        "with open(\"eval_questions.txt\", \"r\") as f:\n",
        "    for line in f:\n",
        "        questions.append(line.strip())"
      ]
    },
    {
      "cell_type": "code",
      "execution_count": null,
      "metadata": {
        "colab": {
          "base_uri": "https://localhost:8080/"
        },
        "id": "LlWrUN2noAP6",
        "outputId": "359f5cf8-8218-473c-f083-2b147408e112"
      },
      "outputs": [
        {
          "output_type": "stream",
          "name": "stdout",
          "text": [
            "How does the company recognize the benefit from a tax position?\n"
          ]
        }
      ],
      "source": [
        "print(questions[0])"
      ]
    },
    {
      "cell_type": "code",
      "execution_count": null,
      "metadata": {
        "id": "Qk5z5IsMoB1i"
      },
      "outputs": [],
      "source": []
    },
    {
      "cell_type": "markdown",
      "metadata": {
        "id": "HG_3asDvoH7V"
      },
      "source": [
        "### Baseline model"
      ]
    },
    {
      "cell_type": "code",
      "execution_count": null,
      "metadata": {
        "id": "bpEPx5t0oJYB"
      },
      "outputs": [],
      "source": [
        "from llama_index.response.notebook_utils import display_response\n",
        "from llama_index import ServiceContext\n",
        "from llama_index.llms import OpenAI\n",
        "\n",
        "\n",
        "gpt_35_context = ServiceContext.from_defaults(\n",
        "    llm=OpenAI(model=\"gpt-3.5-turbo\", temperature=0.3)\n",
        ")"
      ]
    },
    {
      "cell_type": "code",
      "execution_count": null,
      "metadata": {
        "colab": {
          "base_uri": "https://localhost:8080/",
          "height": 116
        },
        "id": "jH-NLRiJoKFQ",
        "outputId": "ced4c4b0-449b-4dc5-cde0-dbd7be626daf"
      },
      "outputs": [
        {
          "output_type": "display_data",
          "data": {
            "text/plain": [
              "<IPython.core.display.Markdown object>"
            ],
            "text/markdown": "**`Final Response:`** The company recognizes the benefit from a tax position by including it as a component of income tax expense. They also accrue for the payment of interest and penalties related to unrecognized tax benefits. However, it is important to note that the amounts asserted by tax authorities could be greater or less than the company's accrued position. As a result, the provisions on tax-related matters may change in the future as revised estimates are made or the underlying matters are settled. Additionally, as of January 29, 2023, the company has not identified any positions for which it is reasonably possible that the total amounts of unrecognized tax benefits will significantly increase or decrease within the next twelve months."
          },
          "metadata": {}
        }
      ],
      "source": [
        "query_engine = index.as_query_engine(service_context=gpt_35_context)\n",
        "\n",
        "response = query_engine.query(questions[0])\n",
        "\n",
        "display_response(response)"
      ]
    },
    {
      "cell_type": "markdown",
      "metadata": {
        "id": "biBKH3dloMA6"
      },
      "source": [
        "### Fine-tuned model"
      ]
    },
    {
      "cell_type": "code",
      "execution_count": null,
      "metadata": {
        "id": "m8CYBc8ToOBf"
      },
      "outputs": [],
      "source": [
        "from llama_index import ServiceContext\n",
        "from llama_index.llms import OpenAI\n",
        "\n",
        "\n",
        "ft_context = ServiceContext.from_defaults(\n",
        "    llm=ft_llm\n",
        ")"
      ]
    },
    {
      "cell_type": "code",
      "execution_count": null,
      "metadata": {
        "colab": {
          "base_uri": "https://localhost:8080/",
          "height": 81
        },
        "id": "eKT0FhOAoRET",
        "outputId": "b1dc41c4-8210-4d5b-de48-60cf0e1e06cd"
      },
      "outputs": [
        {
          "output_type": "display_data",
          "data": {
            "text/plain": [
              "<IPython.core.display.Markdown object>"
            ],
            "text/markdown": "**`Final Response:`** The company acknowledges the advantage of a tax position by incorporating it into their income tax expense. They also categorize an unacknowledged tax benefit as a current liability or a refundable amount if they expect to pay or receive cash for income taxes within a year. If the payment or receipt of cash for income taxes is projected to occur beyond a year, the amount is classified as a long-term liability or a reduction of a long-term refundable amount."
          },
          "metadata": {}
        }
      ],
      "source": [
        "query_engine = index.as_query_engine(service_context=ft_context)\n",
        "\n",
        "response = query_engine.query(questions[0])\n",
        "\n",
        "display_response(response)"
      ]
    }
  ],
  "metadata": {
    "colab": {
      "provenance": [],
      "toc_visible": true,
      "authorship_tag": "ABX9TyOmamiKmcmhUwLrdxyOihf6",
      "include_colab_link": true
    },
    "kernelspec": {
      "display_name": "Python 3",
      "name": "python3"
    },
    "language_info": {
      "name": "python"
    }
  },
  "nbformat": 4,
  "nbformat_minor": 0
}